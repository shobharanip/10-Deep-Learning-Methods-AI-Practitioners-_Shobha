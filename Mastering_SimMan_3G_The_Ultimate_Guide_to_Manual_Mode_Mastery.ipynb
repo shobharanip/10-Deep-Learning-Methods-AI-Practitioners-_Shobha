{
  "nbformat": 4,
  "nbformat_minor": 0,
  "metadata": {
    "colab": {
      "provenance": [],
      "include_colab_link": true
    },
    "kernelspec": {
      "name": "python3",
      "display_name": "Python 3"
    },
    "language_info": {
      "name": "python"
    }
  },
  "cells": [
    {
      "cell_type": "markdown",
      "metadata": {
        "id": "view-in-github",
        "colab_type": "text"
      },
      "source": [
        "<a href=\"https://colab.research.google.com/github/shobharanip/10-Deep-Learning-Methods-AI-Practitioners-_Shobha/blob/master/Mastering_SimMan_3G_The_Ultimate_Guide_to_Manual_Mode_Mastery.ipynb\" target=\"_parent\"><img src=\"https://colab.research.google.com/assets/colab-badge.svg\" alt=\"Open In Colab\"/></a>"
      ]
    },
    {
      "cell_type": "markdown",
      "source": [
        "# Introduction\n",
        "\n",
        "The SimMan 3G is like the superstar of patient simulators, designed to give healthcare pros a run for their money by mimicking real-life medical situations. This guide is all about working with the SimMan 3G using the LLEAP software in manual mode, where you get to be the boss and create the training sessions that fit your needs! 🎮👩‍⚕️👨‍⚕️\n",
        "Purpose\n",
        "\n",
        "Why are we here? To help you become a SimMan 3G pro! This guide will walk you through how to set up and operate the SimMan 3G in manual mode, making sure you can train like a champ and level up those clinical skills. 🏅\n",
        "Setup Process\n",
        "\n",
        "3.1 Installation and Initial Setup:\n",
        "Put your SimMan 3G on a solid surface near a power source. Plug in that power cable (like charging your phone but way cooler). 🔌\n",
        "\n",
        "3.2 Starting the System:\n",
        "Hit that power button and let the magic happen! It’ll take a few minutes to start up, so grab a coffee while you wait. ☕⚡\n",
        "Operating Instructions\n",
        "\n",
        "4.1 Starting a Simulation:\n",
        "Turn on the instructor’s monitor and fire up the 'Laerdal Simulation Home' app. Now you’re in control. Head to manual mode and let the fun begin!\n",
        "\n",
        "4.2 Selecting Manual Mode and Patient Type:\n",
        "Go to 'Manual Mode' in the app and pick 'Healthy Patient' for a smooth start. You’ll be saving virtual lives in no time! 💻🩺\n",
        "Parameter Adjustments\n",
        "\n",
        "Heart rate? Oxygen levels? You’re in charge of it all. Tweak the settings to simulate whatever crazy scenario you’ve got in mind. Adjust heart rate, SpO2, ABP, PAP, etCO2—it's all fair game! 💓🌬️\n",
        "Advanced Controls\n",
        "\n",
        "Want to get fancy? You can adjust body sounds like heartbeats and lung sounds. Or control eye movements to simulate different neurological conditions. Talk about realism! 👀❤️‍🩹\n",
        "Monitoring and Logs\n",
        "\n",
        "Keep track of everything by checking the session logs. Monitor the system's status, just in case something fishy pops up—nothing gets past you! 🕵️‍♀️\n",
        "Troubleshooting\n",
        "\n",
        "Got issues? We’ve got you covered. From software that’s acting like it hasn’t had coffee to hardware glitches, this section walks you through common problems and error codes like a pro. 🧰💡\n",
        "Maintenance\n",
        "\n",
        "Keep your SimMan in tip-top shape with routine maintenance. Follow daily, weekly, and monthly checklists, clean it up, and update that software to keep things running smoothly. Long-term care tips included to make sure your SimMan stays around for a while! 🧼🛠️\n",
        "Conclusion\n",
        "\n",
        "To sum it all up: practice makes perfect. Regularly train with SimMan 3G, keep it well-maintained, and stay on top of software updates. You’ll be a simulation superstar in no time! 🌟\n",
        "Appendix\n",
        "\n",
        "Need a cheat sheet? Here’s a glossary of all the fancy terms we’ve used, plus contact info for tech support and online resources, just in case things get tricky. 📖☎️"
      ],
      "metadata": {
        "id": "BZrVUjxDouEy"
      }
    },
    {
      "cell_type": "markdown",
      "source": [],
      "metadata": {
        "id": "VwE6kl0aoph5"
      }
    },
    {
      "cell_type": "code",
      "source": [
        "# prompt: Generate the image with Stable Diffusion\n",
        "\n",
        "!pip install diffusers\n",
        "from diffusers import StableDiffusionClothPipeline\n",
        "import torch\n",
        "\n",
        "model_id = 'stabilityai/stable-diffusion-2'\n",
        "pipe = StableDiffusionClothPipeline.from_pretrained(model_id, torch_dtype=torch.float16)\n",
        "pipe = pipe.to(\"cuda\")\n",
        "\n",
        "prompt = \"A photorealistic portrait of a cat wearing a top hat and monocle.\"\n",
        "image = pipe(prompt).images[0]\n",
        "\n",
        "image.save(\"cat_in_hat.png\")"
      ],
      "metadata": {
        "id": "kHZrPosfPIxr"
      },
      "execution_count": null,
      "outputs": []
    },
    {
      "cell_type": "code",
      "source": [
        "\n"
      ],
      "metadata": {
        "id": "qRT2gIrWPLse"
      },
      "execution_count": null,
      "outputs": []
    },
    {
      "cell_type": "code",
      "source": [
        "pip install fpdf"
      ],
      "metadata": {
        "colab": {
          "base_uri": "https://localhost:8080/"
        },
        "id": "XleoEcDc8MKL",
        "outputId": "5aa2345a-f627-46e6-82da-a86551333121"
      },
      "execution_count": null,
      "outputs": [
        {
          "output_type": "stream",
          "name": "stdout",
          "text": [
            "Collecting fpdf\n",
            "  Downloading fpdf-1.7.2.tar.gz (39 kB)\n",
            "  Preparing metadata (setup.py) ... \u001b[?25l\u001b[?25hdone\n",
            "Building wheels for collected packages: fpdf\n",
            "  Building wheel for fpdf (setup.py) ... \u001b[?25l\u001b[?25hdone\n",
            "  Created wheel for fpdf: filename=fpdf-1.7.2-py2.py3-none-any.whl size=40702 sha256=c7cbf64081fa59ad6b82f8281d91bd0ef507e048436489beb9a1c28b95928830\n",
            "  Stored in directory: /root/.cache/pip/wheels/f9/95/ba/f418094659025eb9611f17cbcaf2334236bf39a0c3453ea455\n",
            "Successfully built fpdf\n",
            "Installing collected packages: fpdf\n",
            "Successfully installed fpdf-1.7.2\n"
          ]
        }
      ]
    },
    {
      "cell_type": "code",
      "source": [
        "from fpdf import FPDF\n",
        "\n",
        "# Create instance of FPDF class\n",
        "pdf = FPDF()\n",
        "\n",
        "# Add a page\n",
        "pdf.add_page()\n",
        "\n",
        "# Set font\n",
        "pdf.set_font(\"Arial\", size = 12)\n",
        "\n",
        "# Adding a cell\n",
        "pdf.cell(200, 10, txt = \"SimMan 3G Manual Mode Operation Guide\", ln = True, align = 'C')\n",
        "\n",
        "# Add author\n",
        "pdf.cell(200, 10, txt = \"Author: P Shobharani, Masters in Data Science, Monmouth University\", ln = True, align = 'C')\n",
        "pdf.cell(200, 10, ln = True)  # Empty line\n",
        "\n",
        "# Content structured\n",
        "chapters = [\n",
        "    (\"Introduction\", \"The SimMan 3G is an advanced patient simulation system designed to train healthcare professionals by mimicking real-life medical scenarios. This manual focuses on operating the SimMan 3G using the LLEAP software in manual mode, allowing instructors to customize training sessions according to specific educational goals.\"),\n",
        "    (\"Purpose\", \"This manual aims to provide comprehensive guidance for setting up and operating the SimMan 3G in manual mode, ensuring that users can effectively employ this technology to enhance clinical training and improve patient care outcomes.\"),\n",
        "    (\"Setup Process\", \"3.1 Installation and Initial Setup: Ensure that the SimMan 3G unit is placed on a stable surface and near a power outlet. Connect the power cable to the SimMan 3G and to the power source. 3.2 Starting the System: Press the power button on the SimMan 3G to turn on the device. Wait for the system to complete its initialization process, which typically takes a few minutes.\"),\n",
        "    (\"Operating Instructions\", \"4.1 Starting a Simulation: Turn on the instructor's monitor and launch the 'Laerdal Simulation Home' application. Navigate to the manual mode option and select it. 4.2 Selecting Manual Mode and Patient Type: Within the application, choose 'Manual Mode' and then select 'Healthy Patient' to start with a standard scenario.\"),\n",
        "    (\"Parameter Adjustments\", \"Heart Rate (HR): Adjust using the slider to simulate different cardiac conditions. Oxygen Saturation (SpO2): Set the desired oxygen levels in the blood to mimic various respiratory states. Continue with other parameters such as ABP, PAP, etCO2, etc., adjusting each according to the training needs.\"),\n",
        "    (\"Advanced Controls\", \"Body Sounds: Adjust settings for vocal sounds like heartbeats and lung sounds through the control panel. Eye Movements: Control the simulation of eye movements to mimic different neurological states.\"),\n",
        "    (\"Monitoring and Logs\", \"Regularly check the session log to monitor the sequence of events and any changes made during the simulation\")\n",
        "\n",
        "\n",
        "pdf.add_chapter(\"7. Monitoring and Logs\",\n",
        "                \"Regularly check the session log to monitor the sequence of events and any changes made during the \"\n",
        "                \"simulation. Keep an eye on the system's status through the local PC's connection status and functionality.\")\n",
        "\n",
        "pdf.add_chapter(\"8. Troubleshooting\",\n",
        "                \"Address common issues such as power malfunctions, unresponsive software, or inaccurate simulation \"\n",
        "                \"outputs, providing step-by-step solutions for each.\")\n",
        "\n",
        "pdf.add_chapter(\"9. Maintenance\",\n",
        "                \"Discuss routine maintenance procedures to ensure the longevity and reliability of the SimMan 3G system.\")\n",
        "\n",
        "pdf.add_chapter(\"10. Conclusion\",\n",
        "                \"Summarize the key points covered in the manual and emphasize the importance of regular practice and \"\n",
        "                \"familiarization with the system for effective training.\")\n",
        "\n",
        "pdf.add_chapter(\"11. Appendix\",\n",
        "                \"Include a glossary of terms used in the manual.\\nProvide contact information for technical support \"\n",
        "                \"and further assistance.\")\n",
        "\n",
        "# Save the PDF to a file\n",
        "file_path = \"/mnt/data/SimMan_3G_Manual_Mode_Operation_Guide_by_P_Sobharani.pdf\"\n",
        "pdf.output(file_path)\n",
        "file_path\n"
      ],
      "metadata": {
        "colab": {
          "base_uri": "https://localhost:8080/",
          "height": 106
        },
        "id": "s_WXFKOJhAmB",
        "outputId": "e1ed6362-c31f-4558-c7d5-f67a79601223"
      },
      "execution_count": null,
      "outputs": [
        {
          "output_type": "error",
          "ename": "SyntaxError",
          "evalue": "'[' was never closed (<ipython-input-2-1f2a56d0ab7e>, line 20)",
          "traceback": [
            "\u001b[0;36m  File \u001b[0;32m\"<ipython-input-2-1f2a56d0ab7e>\"\u001b[0;36m, line \u001b[0;32m20\u001b[0m\n\u001b[0;31m    chapters = [\u001b[0m\n\u001b[0m               ^\u001b[0m\n\u001b[0;31mSyntaxError\u001b[0m\u001b[0;31m:\u001b[0m '[' was never closed\n"
          ]
        }
      ]
    },
    {
      "cell_type": "code",
      "source": [
        "from fpdf import FPDF\n",
        "\n",
        "# Create instance of FPDF class & add a page\n",
        "pdf = FPDF()\n",
        "pdf.add_page()\n",
        "\n",
        "# Set title and author\n",
        "pdf.set_font('Arial', 'B', 16)\n",
        "pdf.cell(200, 10, 'SimMan 3G Manual Mode Operation Guide, ', 0, 1, 'C')\n",
        "\n",
        "pdf.set_font('Arial', 'I', 12)\n",
        "pdf.cell(200, 10, 'Author: P Shobharani, Masters in Data Science, Monmouth University', 0, 1, 'C')\n",
        "\n",
        "pdf.ln(10)  # Adding a line break\n",
        "\n",
        "# Content structured\n",
        "# Add each chapter with detailed descriptions\n",
        "chapters = [\n",
        "    (\"Introduction\",      \"The SimMan 3G is an advanced patient simulation system designed to train healthcare professionals by mimicking real-life medical scenarios. This manual focuses on operating the SimMan 3G using the LLEAP software in manual mode, allowing instructors to customize training sessions according to specific educational goals.\"),\n",
        "    ( \"Purpose\",      \"This manual aims to provide comprehensive guidance for setting up and operating the SimMan 3G in manual mode, ensuring that users can effectively employ this technology to enhance clinical training and improve patient care outcomes.\"),\n",
        "    ( \"Setup Process\",     \"3.1 Installation and Initial Setup: Ensure that the SimMan 3G unit is placed on a stable surface and near a power outlet. Connect the power cable to the SimMan 3G and to the power source. 3.2 Starting the System: Press the power button on the SimMan 3G to turn on the device. Wait for the system to complete its initialization process, which typically takes a few minutes.\"),\n",
        "    ( \"Operating Instructions\",     \"4.1 Starting a Simulation: Turn on the instructor’s monitor and launch the 'Laerdal Simulation Home' application. Navigate to the manual mode option and select it. 4.2 Selecting Manual Mode and Patient Type: Within the application, choose 'Manual Mode' and then select 'Healthy Patient' to start with a standard scenario.\"),\n",
        "    ( \"Parameter Adjustments\",     \"Heart Rate (HR): Adjust using the slider to simulate different cardiac conditions. Oxygen Saturation (SpO2): Set the desired oxygen levels in the blood to mimic various respiratory states. Continue with other parameters such as ABP, PAP, etCO2, etc., adjusting each according to the training needs.\"),\n",
        "    ( \"Advanced Controls\",     \"Body Sounds: Adjust settings for vocal sounds like heartbeats and lung sounds through the control panel. Eye Movements: Control the simulation of eye movements to mimic different neurological states.\"),\n",
        "    ( \"Monitoring and Logs\",     \"Regularly check the session log to monitor the sequence of events and any changes made during the simulation. Keep an eye on the system's status through the local PC's connection status and functionality.\"),\n",
        "    ( \"Troubleshooting\",     \"Common Issues: Address frequent issues that may arise, such as unresponsive software, sensor errors, or hardware malfunctions. Provide detailed solutions and preventive measures to ensure smooth operation. Error Codes: Explain common error codes displayed by the system. Include step-by-step troubleshooting guides to diagnose and resolve these issues efficiently.\"),\n",
        "    ( \"Maintenance\",     \"Routine Maintenance: Outline procedures for daily, weekly, and monthly maintenance to ensure the SimMan 3G operates at optimal levels. This includes cleaning guidelines, software updates, and hardware checks. Long-term Care: Discuss the best practices for extending the lifespan of the SimMan 3G, such as proper storage, handling of sensitive components, and when to seek professional servicing.\"),\n",
        "    ( \"Conclusion\",     \"Recap the main points discussed in the manual. Highlight the importance of thorough training and regular practice using the SimMan 3G to fully benefit from its capabilities. Encourage users to maintain the equipment properly and stay updated with new software releases and training modules.\"),\n",
        "    ( \"Appendix\",     \"Glossary: Define technical terms and abbreviations used throughout the manual. Technical Support: Provide contact information for technical support, customer service, and access to online resources that can assist users in troubleshooting or learning more about the SimMan 3G.\")\n",
        "]\n",
        "\n",
        "\n",
        "\n",
        "# Adding chapters to the PDF\n",
        "pdf.set_font('Arial', 'B', 12)\n",
        "for i, (title, body) in enumerate(chapters, 1):\n",
        "    pdf.add_page()\n",
        "    pdf.cell(0, 10, f'Chapter {i}: {title}', 0, 1, 'L')\n",
        "    pdf.set_font('Arial', '', 12)\n",
        "    pdf.multi_cell(0, 10, body)\n",
        "\n",
        "# Save the PDF to a file\n",
        "pdf.output('SimMan_3G_Manual1.pdf')\n"
      ],
      "metadata": {
        "colab": {
          "base_uri": "https://localhost:8080/",
          "height": 321
        },
        "id": "H9f17r7G7-PI",
        "outputId": "a2a9c6ab-fabc-423c-d308-cd930272fa66"
      },
      "execution_count": null,
      "outputs": [
        {
          "output_type": "error",
          "ename": "UnicodeEncodeError",
          "evalue": "'latin-1' codec can't encode character '\\u2019' in position 169: ordinal not in range(256)",
          "traceback": [
            "\u001b[0;31m---------------------------------------------------------------------------\u001b[0m",
            "\u001b[0;31mUnicodeEncodeError\u001b[0m                        Traceback (most recent call last)",
            "\u001b[0;32m<ipython-input-19-c49f223656bd>\u001b[0m in \u001b[0;36m<cell line: 43>\u001b[0;34m()\u001b[0m\n\u001b[1;32m     41\u001b[0m \u001b[0;34m\u001b[0m\u001b[0m\n\u001b[1;32m     42\u001b[0m \u001b[0;31m# Save the PDF to a file\u001b[0m\u001b[0;34m\u001b[0m\u001b[0;34m\u001b[0m\u001b[0m\n\u001b[0;32m---> 43\u001b[0;31m \u001b[0mpdf\u001b[0m\u001b[0;34m.\u001b[0m\u001b[0moutput\u001b[0m\u001b[0;34m(\u001b[0m\u001b[0;34m'SimMan_3G_Manual1.pdf'\u001b[0m\u001b[0;34m)\u001b[0m\u001b[0;34m\u001b[0m\u001b[0;34m\u001b[0m\u001b[0m\n\u001b[0m",
            "\u001b[0;32m/usr/local/lib/python3.10/dist-packages/fpdf/fpdf.py\u001b[0m in \u001b[0;36moutput\u001b[0;34m(self, name, dest)\u001b[0m\n\u001b[1;32m   1063\u001b[0m         \u001b[0;31m#Finish document if necessary\u001b[0m\u001b[0;34m\u001b[0m\u001b[0;34m\u001b[0m\u001b[0m\n\u001b[1;32m   1064\u001b[0m         \u001b[0;32mif\u001b[0m\u001b[0;34m(\u001b[0m\u001b[0mself\u001b[0m\u001b[0;34m.\u001b[0m\u001b[0mstate\u001b[0m\u001b[0;34m<\u001b[0m\u001b[0;36m3\u001b[0m\u001b[0;34m)\u001b[0m\u001b[0;34m:\u001b[0m\u001b[0;34m\u001b[0m\u001b[0;34m\u001b[0m\u001b[0m\n\u001b[0;32m-> 1065\u001b[0;31m             \u001b[0mself\u001b[0m\u001b[0;34m.\u001b[0m\u001b[0mclose\u001b[0m\u001b[0;34m(\u001b[0m\u001b[0;34m)\u001b[0m\u001b[0;34m\u001b[0m\u001b[0;34m\u001b[0m\u001b[0m\n\u001b[0m\u001b[1;32m   1066\u001b[0m         \u001b[0mdest\u001b[0m\u001b[0;34m=\u001b[0m\u001b[0mdest\u001b[0m\u001b[0;34m.\u001b[0m\u001b[0mupper\u001b[0m\u001b[0;34m(\u001b[0m\u001b[0;34m)\u001b[0m\u001b[0;34m\u001b[0m\u001b[0;34m\u001b[0m\u001b[0m\n\u001b[1;32m   1067\u001b[0m         \u001b[0;32mif\u001b[0m\u001b[0;34m(\u001b[0m\u001b[0mdest\u001b[0m\u001b[0;34m==\u001b[0m\u001b[0;34m''\u001b[0m\u001b[0;34m)\u001b[0m\u001b[0;34m:\u001b[0m\u001b[0;34m\u001b[0m\u001b[0;34m\u001b[0m\u001b[0m\n",
            "\u001b[0;32m/usr/local/lib/python3.10/dist-packages/fpdf/fpdf.py\u001b[0m in \u001b[0;36mclose\u001b[0;34m(self)\u001b[0m\n\u001b[1;32m    244\u001b[0m         \u001b[0mself\u001b[0m\u001b[0;34m.\u001b[0m\u001b[0m_endpage\u001b[0m\u001b[0;34m(\u001b[0m\u001b[0;34m)\u001b[0m\u001b[0;34m\u001b[0m\u001b[0;34m\u001b[0m\u001b[0m\n\u001b[1;32m    245\u001b[0m         \u001b[0;31m#close document\u001b[0m\u001b[0;34m\u001b[0m\u001b[0;34m\u001b[0m\u001b[0m\n\u001b[0;32m--> 246\u001b[0;31m         \u001b[0mself\u001b[0m\u001b[0;34m.\u001b[0m\u001b[0m_enddoc\u001b[0m\u001b[0;34m(\u001b[0m\u001b[0;34m)\u001b[0m\u001b[0;34m\u001b[0m\u001b[0;34m\u001b[0m\u001b[0m\n\u001b[0m\u001b[1;32m    247\u001b[0m \u001b[0;34m\u001b[0m\u001b[0m\n\u001b[1;32m    248\u001b[0m     \u001b[0;32mdef\u001b[0m \u001b[0madd_page\u001b[0m\u001b[0;34m(\u001b[0m\u001b[0mself\u001b[0m\u001b[0;34m,\u001b[0m \u001b[0morientation\u001b[0m\u001b[0;34m=\u001b[0m\u001b[0;34m''\u001b[0m\u001b[0;34m)\u001b[0m\u001b[0;34m:\u001b[0m\u001b[0;34m\u001b[0m\u001b[0;34m\u001b[0m\u001b[0m\n",
            "\u001b[0;32m/usr/local/lib/python3.10/dist-packages/fpdf/fpdf.py\u001b[0m in \u001b[0;36m_enddoc\u001b[0;34m(self)\u001b[0m\n\u001b[1;32m   1634\u001b[0m     \u001b[0;32mdef\u001b[0m \u001b[0m_enddoc\u001b[0m\u001b[0;34m(\u001b[0m\u001b[0mself\u001b[0m\u001b[0;34m)\u001b[0m\u001b[0;34m:\u001b[0m\u001b[0;34m\u001b[0m\u001b[0;34m\u001b[0m\u001b[0m\n\u001b[1;32m   1635\u001b[0m         \u001b[0mself\u001b[0m\u001b[0;34m.\u001b[0m\u001b[0m_putheader\u001b[0m\u001b[0;34m(\u001b[0m\u001b[0;34m)\u001b[0m\u001b[0;34m\u001b[0m\u001b[0;34m\u001b[0m\u001b[0m\n\u001b[0;32m-> 1636\u001b[0;31m         \u001b[0mself\u001b[0m\u001b[0;34m.\u001b[0m\u001b[0m_putpages\u001b[0m\u001b[0;34m(\u001b[0m\u001b[0;34m)\u001b[0m\u001b[0;34m\u001b[0m\u001b[0;34m\u001b[0m\u001b[0m\n\u001b[0m\u001b[1;32m   1637\u001b[0m         \u001b[0mself\u001b[0m\u001b[0;34m.\u001b[0m\u001b[0m_putresources\u001b[0m\u001b[0;34m(\u001b[0m\u001b[0;34m)\u001b[0m\u001b[0;34m\u001b[0m\u001b[0;34m\u001b[0m\u001b[0m\n\u001b[1;32m   1638\u001b[0m         \u001b[0;31m#Info\u001b[0m\u001b[0;34m\u001b[0m\u001b[0;34m\u001b[0m\u001b[0m\n",
            "\u001b[0;32m/usr/local/lib/python3.10/dist-packages/fpdf/fpdf.py\u001b[0m in \u001b[0;36m_putpages\u001b[0;34m(self)\u001b[0m\n\u001b[1;32m   1168\u001b[0m             \u001b[0;32mif\u001b[0m \u001b[0mself\u001b[0m\u001b[0;34m.\u001b[0m\u001b[0mcompress\u001b[0m\u001b[0;34m:\u001b[0m\u001b[0;34m\u001b[0m\u001b[0;34m\u001b[0m\u001b[0m\n\u001b[1;32m   1169\u001b[0m                 \u001b[0;31m# manage binary data as latin1 until PEP461 or similar is implemented\u001b[0m\u001b[0;34m\u001b[0m\u001b[0;34m\u001b[0m\u001b[0m\n\u001b[0;32m-> 1170\u001b[0;31m                 \u001b[0mp\u001b[0m \u001b[0;34m=\u001b[0m \u001b[0mself\u001b[0m\u001b[0;34m.\u001b[0m\u001b[0mpages\u001b[0m\u001b[0;34m[\u001b[0m\u001b[0mn\u001b[0m\u001b[0;34m]\u001b[0m\u001b[0;34m.\u001b[0m\u001b[0mencode\u001b[0m\u001b[0;34m(\u001b[0m\u001b[0;34m\"latin1\"\u001b[0m\u001b[0;34m)\u001b[0m \u001b[0;32mif\u001b[0m \u001b[0mPY3K\u001b[0m \u001b[0;32melse\u001b[0m \u001b[0mself\u001b[0m\u001b[0;34m.\u001b[0m\u001b[0mpages\u001b[0m\u001b[0;34m[\u001b[0m\u001b[0mn\u001b[0m\u001b[0;34m]\u001b[0m\u001b[0;34m\u001b[0m\u001b[0;34m\u001b[0m\u001b[0m\n\u001b[0m\u001b[1;32m   1171\u001b[0m                 \u001b[0mp\u001b[0m \u001b[0;34m=\u001b[0m \u001b[0mzlib\u001b[0m\u001b[0;34m.\u001b[0m\u001b[0mcompress\u001b[0m\u001b[0;34m(\u001b[0m\u001b[0mp\u001b[0m\u001b[0;34m)\u001b[0m\u001b[0;34m\u001b[0m\u001b[0;34m\u001b[0m\u001b[0m\n\u001b[1;32m   1172\u001b[0m             \u001b[0;32melse\u001b[0m\u001b[0;34m:\u001b[0m\u001b[0;34m\u001b[0m\u001b[0;34m\u001b[0m\u001b[0m\n",
            "\u001b[0;31mUnicodeEncodeError\u001b[0m: 'latin-1' codec can't encode character '\\u2019' in position 169: ordinal not in range(256)"
          ]
        }
      ]
    },
    {
      "cell_type": "code",
      "source": [
        "from fpdf import FPDF\n",
        "\n",
        "# Create instance of FPDF class & add a page\n",
        "pdf = FPDF()\n",
        "pdf.add_page()\n",
        "\n",
        "# Set title and author\n",
        "pdf.set_font('Arial', 'B', 16)\n",
        "pdf.cell(200, 10, 'SimMan 3G Manual Mode Operation Guide', 0, 1, 'C')\n",
        "\n",
        "pdf.set_font('Arial', 'I', 12)\n",
        "pdf.cell(200, 10, 'Author: P Shobharani, Masters in Data Science, Monmouth University', 0, 1, 'C')\n",
        "\n",
        "pdf.ln(10)  # Adding a line break\n",
        "\n",
        "# Content structured\n",
        "chapters = [\n",
        "    (\"Introduction\", \"The SimMan 3G is an advanced patient simulation system designed to train healthcare professionals in a variety of medical scenarios. It uses cutting-edge technology to mimic real-life conditions, allowing instructors to control and manipulate various physiological parameters. This flexibility makes it an invaluable tool for training in emergency response, routine patient care, and specialized medical procedures. Users can simulate cardiac arrest, respiratory failure, abdominal emergencies, and other critical conditions. The system includes realistic anatomical landmarks, automatic drug recognition, and high-quality simulation for auscultation of heart, lung, and bowel sounds.\"),\n",
        "    (\"Purpose\", \"This manual provides detailed instructions for setting up, operating, and maximizing the use of the SimMan 3G in manual mode. The primary aim is to ensure that all users can efficiently use this system to enhance their educational and training outcomes. By following the guidelines presented herein, instructors can develop and execute tailored scenarios that address specific learning objectives. This manual also serves as a resource for troubleshooting common issues, performing regular maintenance, and understanding the full capabilities of the simulation system.\"),\n",
        "    (\"Setup Process\", \"3.1 Installation and Initial Setup: Begin by positioning the SimMan 3G unit in a dedicated simulation area that mimics a real healthcare environment. Ensure the area is free of obstacles and has adequate power supply. Connect the unit to the power source and any additional peripherals required for the simulation. 3.2 Starting the System: Power on the SimMan 3G by pressing the startup button located on the base unit. Follow the on-screen instructions on the connected monitor to initialize the system. This process includes system diagnostics to check sensor integrations and software responsiveness.\"),\n",
        "    (\"Operating Instructions\", \"4.1 Starting a Simulation: To initiate a simulation, turn on the instructor’s monitor and open the Laerdal Simulation Home application. This application is the central hub for selecting and customizing simulation parameters. 4.2 Selecting Manual Mode and Patient Type: Choose 'Manual Mode' from the main menu to gain complete control over the simulation environment. You can select a 'Healthy Patient' to start with baseline parameters, or choose from a variety of pre-programmed conditions to simulate specific health scenarios.\"),\n",
        "    (\"Parameter Adjustments\", \"Each parameter within the SimMan 3G can be adjusted to replicate different physiological responses. Heart Rate (HR) can be set to reflect various cardiac conditions, from bradycardia to tachycardia. Oxygen Saturation (SpO2) levels can be manipulated to simulate respiratory complications. Adjusting Arterial Blood Pressure (ABP), Pulmonary Arterial Pressure (PAP), and End-Tidal CO2 (etCO2) provides a comprehensive understanding of the cardiovascular and respiratory systems under stress.\"),\n",
        "    (\"Advanced Controls\", \"The SimMan 3G offers advanced controls for simulating complex medical scenarios. This includes the ability to control vocal sounds and patient verbalizations, which are essential for creating realistic interaction during training. Eye movements can be adjusted to reflect neurological impairments or sedation levels, adding depth to scenarios involving neurological assessments or anesthesia.\"),\n",
        "    (\"Monitoring and Logs\", \"It is crucial to continuously monitor the simulation’s progress and log all actions and changes. The SimMan 3G system provides a detailed session log that captures every adjustment and decision made during the simulation. This log is vital for post-session debriefing, allowing instructors and participants to analyze the decision-making process and outcomes.\"),\n",
        "    (\"Troubleshooting\", \"Troubleshooting common issues is essential for the smooth operation of the SimMan 3G. This section provides solutions to frequent software hiccups, sensor malfunctions, and hardware issues. It includes a comprehensive list of error codes and their meanings, along with step-by-step guidance on resolving these issues quickly and effectively.\"),\n",
        "    (\"Maintenance\", \"Regular maintenance is crucial for the longevity and reliability of the SimMan 3G. This chapter outlines daily, weekly, and monthly maintenance routines, including cleaning protocols, software updates, and hardware checks. It also discusses long-term care practices, such as proper storage, handling of components, and when to contact professional services for more complex servicing needs.\"),\n",
        "    (\"Conclusion\", \"This manual has outlined the necessary steps and guidelines for effectively using the SimMan 3G simulation system. Regular practice and adherence to the maintenance guidelines will ensure that users can maximize the system's capabilities. We encourage all users to stay engaged with continuous learning opportunities and software updates provided by Laerdal Medical.\"),\n",
        "\n",
        "    (\"Appendix\", \"The appendix includes a comprehensive glossary of technical terms and abbreviations used throughout this manual. It also provides detailed contact information for Laerdal Medical’s technical support team, customer service, and links to online resources for additional help and learning about the SimMan 3G simulation system.\")\n",
        "]\n",
        "\n",
        "# Adding chapters to the PDF\n",
        "pdf.set_font('Arial', 'B', 12)\n",
        "for i, (title, body) in enumerate(chapters, 1):\n",
        "    pdf.add_page()\n",
        "    pdf.cell(0, 10, f'Chapter {i}: {title}', 0, 1, 'L')\n",
        "    pdf.set_font('Arial', '', 12)\n",
        "    pdf.multi_cell(0, 10, body)\n",
        "\n",
        "# Save the PDF to a file\n",
        "pdf.output('SimMan_3G_Manual.pdf')\n"
      ],
      "metadata": {
        "colab": {
          "base_uri": "https://localhost:8080/",
          "height": 321
        },
        "id": "Cao64xRcN8HJ",
        "outputId": "6ac8bbb1-d6a7-461b-dba8-150eedc86938"
      },
      "execution_count": null,
      "outputs": [
        {
          "output_type": "error",
          "ename": "UnicodeEncodeError",
          "evalue": "'latin-1' codec can't encode character '\\u2019' in position 195: ordinal not in range(256)",
          "traceback": [
            "\u001b[0;31m---------------------------------------------------------------------------\u001b[0m",
            "\u001b[0;31mUnicodeEncodeError\u001b[0m                        Traceback (most recent call last)",
            "\u001b[0;32m<ipython-input-34-8bd7638d658b>\u001b[0m in \u001b[0;36m<cell line: 35>\u001b[0;34m()\u001b[0m\n\u001b[1;32m     33\u001b[0m \u001b[0;34m\u001b[0m\u001b[0m\n\u001b[1;32m     34\u001b[0m \u001b[0;31m# Save the PDF to a file\u001b[0m\u001b[0;34m\u001b[0m\u001b[0;34m\u001b[0m\u001b[0m\n\u001b[0;32m---> 35\u001b[0;31m \u001b[0mpdf\u001b[0m\u001b[0;34m.\u001b[0m\u001b[0moutput\u001b[0m\u001b[0;34m(\u001b[0m\u001b[0;34m'SimMan_3G_Manual.pdf'\u001b[0m\u001b[0;34m)\u001b[0m\u001b[0;34m\u001b[0m\u001b[0;34m\u001b[0m\u001b[0m\n\u001b[0m",
            "\u001b[0;32m/usr/local/lib/python3.10/dist-packages/fpdf/fpdf.py\u001b[0m in \u001b[0;36moutput\u001b[0;34m(self, name, dest)\u001b[0m\n\u001b[1;32m   1063\u001b[0m         \u001b[0;31m#Finish document if necessary\u001b[0m\u001b[0;34m\u001b[0m\u001b[0;34m\u001b[0m\u001b[0m\n\u001b[1;32m   1064\u001b[0m         \u001b[0;32mif\u001b[0m\u001b[0;34m(\u001b[0m\u001b[0mself\u001b[0m\u001b[0;34m.\u001b[0m\u001b[0mstate\u001b[0m\u001b[0;34m<\u001b[0m\u001b[0;36m3\u001b[0m\u001b[0;34m)\u001b[0m\u001b[0;34m:\u001b[0m\u001b[0;34m\u001b[0m\u001b[0;34m\u001b[0m\u001b[0m\n\u001b[0;32m-> 1065\u001b[0;31m             \u001b[0mself\u001b[0m\u001b[0;34m.\u001b[0m\u001b[0mclose\u001b[0m\u001b[0;34m(\u001b[0m\u001b[0;34m)\u001b[0m\u001b[0;34m\u001b[0m\u001b[0;34m\u001b[0m\u001b[0m\n\u001b[0m\u001b[1;32m   1066\u001b[0m         \u001b[0mdest\u001b[0m\u001b[0;34m=\u001b[0m\u001b[0mdest\u001b[0m\u001b[0;34m.\u001b[0m\u001b[0mupper\u001b[0m\u001b[0;34m(\u001b[0m\u001b[0;34m)\u001b[0m\u001b[0;34m\u001b[0m\u001b[0;34m\u001b[0m\u001b[0m\n\u001b[1;32m   1067\u001b[0m         \u001b[0;32mif\u001b[0m\u001b[0;34m(\u001b[0m\u001b[0mdest\u001b[0m\u001b[0;34m==\u001b[0m\u001b[0;34m''\u001b[0m\u001b[0;34m)\u001b[0m\u001b[0;34m:\u001b[0m\u001b[0;34m\u001b[0m\u001b[0;34m\u001b[0m\u001b[0m\n",
            "\u001b[0;32m/usr/local/lib/python3.10/dist-packages/fpdf/fpdf.py\u001b[0m in \u001b[0;36mclose\u001b[0;34m(self)\u001b[0m\n\u001b[1;32m    244\u001b[0m         \u001b[0mself\u001b[0m\u001b[0;34m.\u001b[0m\u001b[0m_endpage\u001b[0m\u001b[0;34m(\u001b[0m\u001b[0;34m)\u001b[0m\u001b[0;34m\u001b[0m\u001b[0;34m\u001b[0m\u001b[0m\n\u001b[1;32m    245\u001b[0m         \u001b[0;31m#close document\u001b[0m\u001b[0;34m\u001b[0m\u001b[0;34m\u001b[0m\u001b[0m\n\u001b[0;32m--> 246\u001b[0;31m         \u001b[0mself\u001b[0m\u001b[0;34m.\u001b[0m\u001b[0m_enddoc\u001b[0m\u001b[0;34m(\u001b[0m\u001b[0;34m)\u001b[0m\u001b[0;34m\u001b[0m\u001b[0;34m\u001b[0m\u001b[0m\n\u001b[0m\u001b[1;32m    247\u001b[0m \u001b[0;34m\u001b[0m\u001b[0m\n\u001b[1;32m    248\u001b[0m     \u001b[0;32mdef\u001b[0m \u001b[0madd_page\u001b[0m\u001b[0;34m(\u001b[0m\u001b[0mself\u001b[0m\u001b[0;34m,\u001b[0m \u001b[0morientation\u001b[0m\u001b[0;34m=\u001b[0m\u001b[0;34m''\u001b[0m\u001b[0;34m)\u001b[0m\u001b[0;34m:\u001b[0m\u001b[0;34m\u001b[0m\u001b[0;34m\u001b[0m\u001b[0m\n",
            "\u001b[0;32m/usr/local/lib/python3.10/dist-packages/fpdf/fpdf.py\u001b[0m in \u001b[0;36m_enddoc\u001b[0;34m(self)\u001b[0m\n\u001b[1;32m   1634\u001b[0m     \u001b[0;32mdef\u001b[0m \u001b[0m_enddoc\u001b[0m\u001b[0;34m(\u001b[0m\u001b[0mself\u001b[0m\u001b[0;34m)\u001b[0m\u001b[0;34m:\u001b[0m\u001b[0;34m\u001b[0m\u001b[0;34m\u001b[0m\u001b[0m\n\u001b[1;32m   1635\u001b[0m         \u001b[0mself\u001b[0m\u001b[0;34m.\u001b[0m\u001b[0m_putheader\u001b[0m\u001b[0;34m(\u001b[0m\u001b[0;34m)\u001b[0m\u001b[0;34m\u001b[0m\u001b[0;34m\u001b[0m\u001b[0m\n\u001b[0;32m-> 1636\u001b[0;31m         \u001b[0mself\u001b[0m\u001b[0;34m.\u001b[0m\u001b[0m_putpages\u001b[0m\u001b[0;34m(\u001b[0m\u001b[0;34m)\u001b[0m\u001b[0;34m\u001b[0m\u001b[0;34m\u001b[0m\u001b[0m\n\u001b[0m\u001b[1;32m   1637\u001b[0m         \u001b[0mself\u001b[0m\u001b[0;34m.\u001b[0m\u001b[0m_putresources\u001b[0m\u001b[0;34m(\u001b[0m\u001b[0;34m)\u001b[0m\u001b[0;34m\u001b[0m\u001b[0;34m\u001b[0m\u001b[0m\n\u001b[1;32m   1638\u001b[0m         \u001b[0;31m#Info\u001b[0m\u001b[0;34m\u001b[0m\u001b[0;34m\u001b[0m\u001b[0m\n",
            "\u001b[0;32m/usr/local/lib/python3.10/dist-packages/fpdf/fpdf.py\u001b[0m in \u001b[0;36m_putpages\u001b[0;34m(self)\u001b[0m\n\u001b[1;32m   1168\u001b[0m             \u001b[0;32mif\u001b[0m \u001b[0mself\u001b[0m\u001b[0;34m.\u001b[0m\u001b[0mcompress\u001b[0m\u001b[0;34m:\u001b[0m\u001b[0;34m\u001b[0m\u001b[0;34m\u001b[0m\u001b[0m\n\u001b[1;32m   1169\u001b[0m                 \u001b[0;31m# manage binary data as latin1 until PEP461 or similar is implemented\u001b[0m\u001b[0;34m\u001b[0m\u001b[0;34m\u001b[0m\u001b[0m\n\u001b[0;32m-> 1170\u001b[0;31m                 \u001b[0mp\u001b[0m \u001b[0;34m=\u001b[0m \u001b[0mself\u001b[0m\u001b[0;34m.\u001b[0m\u001b[0mpages\u001b[0m\u001b[0;34m[\u001b[0m\u001b[0mn\u001b[0m\u001b[0;34m]\u001b[0m\u001b[0;34m.\u001b[0m\u001b[0mencode\u001b[0m\u001b[0;34m(\u001b[0m\u001b[0;34m\"latin1\"\u001b[0m\u001b[0;34m)\u001b[0m \u001b[0;32mif\u001b[0m \u001b[0mPY3K\u001b[0m \u001b[0;32melse\u001b[0m \u001b[0mself\u001b[0m\u001b[0;34m.\u001b[0m\u001b[0mpages\u001b[0m\u001b[0;34m[\u001b[0m\u001b[0mn\u001b[0m\u001b[0;34m]\u001b[0m\u001b[0;34m\u001b[0m\u001b[0;34m\u001b[0m\u001b[0m\n\u001b[0m\u001b[1;32m   1171\u001b[0m                 \u001b[0mp\u001b[0m \u001b[0;34m=\u001b[0m \u001b[0mzlib\u001b[0m\u001b[0;34m.\u001b[0m\u001b[0mcompress\u001b[0m\u001b[0;34m(\u001b[0m\u001b[0mp\u001b[0m\u001b[0;34m)\u001b[0m\u001b[0;34m\u001b[0m\u001b[0;34m\u001b[0m\u001b[0m\n\u001b[1;32m   1172\u001b[0m             \u001b[0;32melse\u001b[0m\u001b[0;34m:\u001b[0m\u001b[0;34m\u001b[0m\u001b[0;34m\u001b[0m\u001b[0m\n",
            "\u001b[0;31mUnicodeEncodeError\u001b[0m: 'latin-1' codec can't encode character '\\u2019' in position 195: ordinal not in range(256)"
          ]
        }
      ]
    },
    {
      "cell_type": "code",
      "source": [
        "print(\"PDF saved in:\", 'SimMan_3G_Manual.pdf')"
      ],
      "metadata": {
        "colab": {
          "base_uri": "https://localhost:8080/"
        },
        "id": "fLRw5CvhPQBj",
        "outputId": "297359c5-b993-4c59-d6c6-0cf95c478f4f"
      },
      "execution_count": null,
      "outputs": [
        {
          "output_type": "stream",
          "name": "stdout",
          "text": [
            "PDF saved in: SimMan_3G_Manual.pdf\n"
          ]
        }
      ]
    },
    {
      "cell_type": "code",
      "source": [
        "from google.colab import files\n",
        "files.download('SimMan_3G_Manual.pdf')\n"
      ],
      "metadata": {
        "colab": {
          "base_uri": "https://localhost:8080/",
          "height": 17
        },
        "id": "0mnYchPyPXIp",
        "outputId": "da683a7e-4386-4196-81ec-d377836e904b"
      },
      "execution_count": null,
      "outputs": [
        {
          "output_type": "display_data",
          "data": {
            "text/plain": [
              "<IPython.core.display.Javascript object>"
            ],
            "application/javascript": [
              "\n",
              "    async function download(id, filename, size) {\n",
              "      if (!google.colab.kernel.accessAllowed) {\n",
              "        return;\n",
              "      }\n",
              "      const div = document.createElement('div');\n",
              "      const label = document.createElement('label');\n",
              "      label.textContent = `Downloading \"${filename}\": `;\n",
              "      div.appendChild(label);\n",
              "      const progress = document.createElement('progress');\n",
              "      progress.max = size;\n",
              "      div.appendChild(progress);\n",
              "      document.body.appendChild(div);\n",
              "\n",
              "      const buffers = [];\n",
              "      let downloaded = 0;\n",
              "\n",
              "      const channel = await google.colab.kernel.comms.open(id);\n",
              "      // Send a message to notify the kernel that we're ready.\n",
              "      channel.send({})\n",
              "\n",
              "      for await (const message of channel.messages) {\n",
              "        // Send a message to notify the kernel that we're ready.\n",
              "        channel.send({})\n",
              "        if (message.buffers) {\n",
              "          for (const buffer of message.buffers) {\n",
              "            buffers.push(buffer);\n",
              "            downloaded += buffer.byteLength;\n",
              "            progress.value = downloaded;\n",
              "          }\n",
              "        }\n",
              "      }\n",
              "      const blob = new Blob(buffers, {type: 'application/binary'});\n",
              "      const a = document.createElement('a');\n",
              "      a.href = window.URL.createObjectURL(blob);\n",
              "      a.download = filename;\n",
              "      div.appendChild(a);\n",
              "      a.click();\n",
              "      div.remove();\n",
              "    }\n",
              "  "
            ]
          },
          "metadata": {}
        },
        {
          "output_type": "display_data",
          "data": {
            "text/plain": [
              "<IPython.core.display.Javascript object>"
            ],
            "application/javascript": [
              "download(\"download_17b48f67-6969-4360-ac59-80fca1e00455\", \"SimMan_3G_Manual.pdf\", 6965)"
            ]
          },
          "metadata": {}
        }
      ]
    },
    {
      "cell_type": "code",
      "source": [
        "from fpdf import FPDF\n",
        "\n",
        "class PDF(FPDF):\n",
        "    def header(self):\n",
        "        self.set_font('Arial', 'B', 16)\n",
        "        self.cell(0, 10, 'SimMan 3G Manual Mode Operation Guide, Author: P Shobharani, Masters in Data Science, Monmouth University', 0, 1, 'C')\n",
        "        self.ln(5)\n",
        "\n",
        "\n",
        "    def chapter_title(self, number, title):\n",
        "        self.set_font('Arial', 'B', 12)\n",
        "        self.cell(0, 10, f'Chapter {number}: {title}', 0, 1, 'L')\n",
        "        self.ln(2)\n",
        "\n",
        "    def chapter_body(self, body):\n",
        "        self.set_font('Arial', '', 12)\n",
        "        self.multi_cell(0, 10, body)\n",
        "        self.ln()\n",
        "\n",
        "    def add_chapter(self, number, title, body):\n",
        "        self.add_page()\n",
        "        self.chapter_title(number, title)\n",
        "        self.chapter_body(body)\n",
        "\n",
        "# Create PDF object\n",
        "pdf = PDF()\n",
        "pdf.set_left_margin(10)\n",
        "pdf.set_right_margin(10)\n",
        "\n",
        "# Add each chapter\n",
        "chapters = [\n",
        "    (1, \"Introduction\",\n",
        "     \"The SimMan 3G is an advanced patient simulation system designed to train healthcare professionals by mimicking real-life medical scenarios. This manual focuses on operating the SimMan 3G using the LLEAP software in manual mode, allowing instructors to customize training sessions according to specific educational goals.\"),\n",
        "    (2, \"Purpose\",\n",
        "     \"This manual aims to provide comprehensive guidance for setting up and operating the SimMan 3G in manual mode, ensuring that users can effectively employ this technology to enhance clinical training and improve patient care outcomes.\"),\n",
        "    (3, \"Setup Process\",\n",
        "     \"3.1 Installation and Initial Setup: Ensure that the SimMan 3G unit is placed on a stable surface and near a power outlet. Connect the power cable to the SimMan 3G and to the power source. 3.2 Starting the System: Press the power button on the SimMan 3G to turn on the device. Wait for the system to complete its initialization process, which typically takes a few minutes.\"),\n",
        "    (4, \"Operating Instructions\",\n",
        "     \"4.1 Starting a Simulation: Turn on the instructor’s monitor and launch the 'Laerdal Simulation Home' application. Navigate to the manual mode option and select it. 4.2 Selecting Manual Mode and Patient Type: Within the application, choose 'Manual Mode' and then select 'Healthy Patient' to start with a standard scenario.\"),\n",
        "    (5, \"Parameter Adjustments\",\n",
        "     \"Heart Rate (HR): Adjust using the slider to simulate different cardiac conditions. Oxygen Saturation (SpO2): Set the desired oxygen levels in the blood to mimic various respiratory states. Continue with other parameters such as ABP, PAP, etCO2, etc., adjusting each according to the training needs.\"),\n",
        "    (6, \"Advanced Controls\",\n",
        "     \"Body Sounds: Adjust settings for vocal sounds like heartbeats and lung sounds through the control panel. Eye Movements: Control the simulation of eye movements to mimic different neurological states.\"),\n",
        "    (7, \"Monitoring and Logs\",\n",
        "     \"Regularly check the session log to monitor the sequence of events and any changes made during the simulation. Keep an eye on the system's status through the local PC's connection status and functionality.\"),\n",
        "    (8, \"Troubleshooting\",\n",
        "     \"Common Issues: Address frequent issues that may arise, such as unresponsive software, sensor errors, or hardware malfunctions. Provide detailed solutions and preventive measures to ensure smooth operation. Error Codes: Explain common error codes displayed by the system. Include step-by-step troubleshooting guides to diagnose and resolve these issues efficiently.\"),\n",
        "    (9, \"Maintenance\",\n",
        "     \"Routine Maintenance: Outline procedures for daily, weekly, and monthly maintenance to ensure the SimMan 3G operates at optimal levels. This includes cleaning guidelines, software updates, and hardware checks. Long-term Care: Discuss the best practices for extending the lifespan of the SimMan 3G, such as proper storage, handling of sensitive components, and when to seek professional servicing.\"),\n",
        "    (10, \"Conclusion\",\n",
        "     \"Recap the main points discussed in the manual. Highlight the importance of thorough training and regular practice using the SimMan 3G to fully benefit from its capabilities. Encourage users to maintain the equipment properly and stay updated with new software releases and training modules.\"),\n",
        "    (11, \"Appendix\",\n",
        "     \"Glossary: Define technical terms and abbreviations used throughout the manual. Technical Support: Provide contact information for technical support, customer service, and access to online resources that can assist users in troubleshooting or learning more about the SimMan 3G.\")\n",
        "]\n",
        "\n",
        "for number, title, body in chapters:\n",
        "    pdf.add_chapter(number, title, body)\n",
        "\n",
        "# Save the PDF to a file\n",
        "pdf.output('SimMan_3G_Manual1.pdf')\n"
      ],
      "metadata": {
        "colab": {
          "base_uri": "https://localhost:8080/",
          "height": 321
        },
        "id": "3mBtvSHwDywK",
        "outputId": "2e4d87aa-9aaf-4d8e-9142-be88195222bd"
      },
      "execution_count": null,
      "outputs": [
        {
          "output_type": "error",
          "ename": "UnicodeEncodeError",
          "evalue": "'latin-1' codec can't encode character '\\u2019' in position 380: ordinal not in range(256)",
          "traceback": [
            "\u001b[0;31m---------------------------------------------------------------------------\u001b[0m",
            "\u001b[0;31mUnicodeEncodeError\u001b[0m                        Traceback (most recent call last)",
            "\u001b[0;32m<ipython-input-8-e4489a86e180>\u001b[0m in \u001b[0;36m<cell line: 60>\u001b[0;34m()\u001b[0m\n\u001b[1;32m     58\u001b[0m \u001b[0;34m\u001b[0m\u001b[0m\n\u001b[1;32m     59\u001b[0m \u001b[0;31m# Save the PDF to a file\u001b[0m\u001b[0;34m\u001b[0m\u001b[0;34m\u001b[0m\u001b[0m\n\u001b[0;32m---> 60\u001b[0;31m \u001b[0mpdf\u001b[0m\u001b[0;34m.\u001b[0m\u001b[0moutput\u001b[0m\u001b[0;34m(\u001b[0m\u001b[0;34m'SimMan_3G_Manual1.pdf'\u001b[0m\u001b[0;34m)\u001b[0m\u001b[0;34m\u001b[0m\u001b[0;34m\u001b[0m\u001b[0m\n\u001b[0m",
            "\u001b[0;32m/usr/local/lib/python3.10/dist-packages/fpdf/fpdf.py\u001b[0m in \u001b[0;36moutput\u001b[0;34m(self, name, dest)\u001b[0m\n\u001b[1;32m   1063\u001b[0m         \u001b[0;31m#Finish document if necessary\u001b[0m\u001b[0;34m\u001b[0m\u001b[0;34m\u001b[0m\u001b[0m\n\u001b[1;32m   1064\u001b[0m         \u001b[0;32mif\u001b[0m\u001b[0;34m(\u001b[0m\u001b[0mself\u001b[0m\u001b[0;34m.\u001b[0m\u001b[0mstate\u001b[0m\u001b[0;34m<\u001b[0m\u001b[0;36m3\u001b[0m\u001b[0;34m)\u001b[0m\u001b[0;34m:\u001b[0m\u001b[0;34m\u001b[0m\u001b[0;34m\u001b[0m\u001b[0m\n\u001b[0;32m-> 1065\u001b[0;31m             \u001b[0mself\u001b[0m\u001b[0;34m.\u001b[0m\u001b[0mclose\u001b[0m\u001b[0;34m(\u001b[0m\u001b[0;34m)\u001b[0m\u001b[0;34m\u001b[0m\u001b[0;34m\u001b[0m\u001b[0m\n\u001b[0m\u001b[1;32m   1066\u001b[0m         \u001b[0mdest\u001b[0m\u001b[0;34m=\u001b[0m\u001b[0mdest\u001b[0m\u001b[0;34m.\u001b[0m\u001b[0mupper\u001b[0m\u001b[0;34m(\u001b[0m\u001b[0;34m)\u001b[0m\u001b[0;34m\u001b[0m\u001b[0;34m\u001b[0m\u001b[0m\n\u001b[1;32m   1067\u001b[0m         \u001b[0;32mif\u001b[0m\u001b[0;34m(\u001b[0m\u001b[0mdest\u001b[0m\u001b[0;34m==\u001b[0m\u001b[0;34m''\u001b[0m\u001b[0;34m)\u001b[0m\u001b[0;34m:\u001b[0m\u001b[0;34m\u001b[0m\u001b[0;34m\u001b[0m\u001b[0m\n",
            "\u001b[0;32m/usr/local/lib/python3.10/dist-packages/fpdf/fpdf.py\u001b[0m in \u001b[0;36mclose\u001b[0;34m(self)\u001b[0m\n\u001b[1;32m    244\u001b[0m         \u001b[0mself\u001b[0m\u001b[0;34m.\u001b[0m\u001b[0m_endpage\u001b[0m\u001b[0;34m(\u001b[0m\u001b[0;34m)\u001b[0m\u001b[0;34m\u001b[0m\u001b[0;34m\u001b[0m\u001b[0m\n\u001b[1;32m    245\u001b[0m         \u001b[0;31m#close document\u001b[0m\u001b[0;34m\u001b[0m\u001b[0;34m\u001b[0m\u001b[0m\n\u001b[0;32m--> 246\u001b[0;31m         \u001b[0mself\u001b[0m\u001b[0;34m.\u001b[0m\u001b[0m_enddoc\u001b[0m\u001b[0;34m(\u001b[0m\u001b[0;34m)\u001b[0m\u001b[0;34m\u001b[0m\u001b[0;34m\u001b[0m\u001b[0m\n\u001b[0m\u001b[1;32m    247\u001b[0m \u001b[0;34m\u001b[0m\u001b[0m\n\u001b[1;32m    248\u001b[0m     \u001b[0;32mdef\u001b[0m \u001b[0madd_page\u001b[0m\u001b[0;34m(\u001b[0m\u001b[0mself\u001b[0m\u001b[0;34m,\u001b[0m \u001b[0morientation\u001b[0m\u001b[0;34m=\u001b[0m\u001b[0;34m''\u001b[0m\u001b[0;34m)\u001b[0m\u001b[0;34m:\u001b[0m\u001b[0;34m\u001b[0m\u001b[0;34m\u001b[0m\u001b[0m\n",
            "\u001b[0;32m/usr/local/lib/python3.10/dist-packages/fpdf/fpdf.py\u001b[0m in \u001b[0;36m_enddoc\u001b[0;34m(self)\u001b[0m\n\u001b[1;32m   1634\u001b[0m     \u001b[0;32mdef\u001b[0m \u001b[0m_enddoc\u001b[0m\u001b[0;34m(\u001b[0m\u001b[0mself\u001b[0m\u001b[0;34m)\u001b[0m\u001b[0;34m:\u001b[0m\u001b[0;34m\u001b[0m\u001b[0;34m\u001b[0m\u001b[0m\n\u001b[1;32m   1635\u001b[0m         \u001b[0mself\u001b[0m\u001b[0;34m.\u001b[0m\u001b[0m_putheader\u001b[0m\u001b[0;34m(\u001b[0m\u001b[0;34m)\u001b[0m\u001b[0;34m\u001b[0m\u001b[0;34m\u001b[0m\u001b[0m\n\u001b[0;32m-> 1636\u001b[0;31m         \u001b[0mself\u001b[0m\u001b[0;34m.\u001b[0m\u001b[0m_putpages\u001b[0m\u001b[0;34m(\u001b[0m\u001b[0;34m)\u001b[0m\u001b[0;34m\u001b[0m\u001b[0;34m\u001b[0m\u001b[0m\n\u001b[0m\u001b[1;32m   1637\u001b[0m         \u001b[0mself\u001b[0m\u001b[0;34m.\u001b[0m\u001b[0m_putresources\u001b[0m\u001b[0;34m(\u001b[0m\u001b[0;34m)\u001b[0m\u001b[0;34m\u001b[0m\u001b[0;34m\u001b[0m\u001b[0m\n\u001b[1;32m   1638\u001b[0m         \u001b[0;31m#Info\u001b[0m\u001b[0;34m\u001b[0m\u001b[0;34m\u001b[0m\u001b[0m\n",
            "\u001b[0;32m/usr/local/lib/python3.10/dist-packages/fpdf/fpdf.py\u001b[0m in \u001b[0;36m_putpages\u001b[0;34m(self)\u001b[0m\n\u001b[1;32m   1168\u001b[0m             \u001b[0;32mif\u001b[0m \u001b[0mself\u001b[0m\u001b[0;34m.\u001b[0m\u001b[0mcompress\u001b[0m\u001b[0;34m:\u001b[0m\u001b[0;34m\u001b[0m\u001b[0;34m\u001b[0m\u001b[0m\n\u001b[1;32m   1169\u001b[0m                 \u001b[0;31m# manage binary data as latin1 until PEP461 or similar is implemented\u001b[0m\u001b[0;34m\u001b[0m\u001b[0;34m\u001b[0m\u001b[0m\n\u001b[0;32m-> 1170\u001b[0;31m                 \u001b[0mp\u001b[0m \u001b[0;34m=\u001b[0m \u001b[0mself\u001b[0m\u001b[0;34m.\u001b[0m\u001b[0mpages\u001b[0m\u001b[0;34m[\u001b[0m\u001b[0mn\u001b[0m\u001b[0;34m]\u001b[0m\u001b[0;34m.\u001b[0m\u001b[0mencode\u001b[0m\u001b[0;34m(\u001b[0m\u001b[0;34m\"latin1\"\u001b[0m\u001b[0;34m)\u001b[0m \u001b[0;32mif\u001b[0m \u001b[0mPY3K\u001b[0m \u001b[0;32melse\u001b[0m \u001b[0mself\u001b[0m\u001b[0;34m.\u001b[0m\u001b[0mpages\u001b[0m\u001b[0;34m[\u001b[0m\u001b[0mn\u001b[0m\u001b[0;34m]\u001b[0m\u001b[0;34m\u001b[0m\u001b[0;34m\u001b[0m\u001b[0m\n\u001b[0m\u001b[1;32m   1171\u001b[0m                 \u001b[0mp\u001b[0m \u001b[0;34m=\u001b[0m \u001b[0mzlib\u001b[0m\u001b[0;34m.\u001b[0m\u001b[0mcompress\u001b[0m\u001b[0;34m(\u001b[0m\u001b[0mp\u001b[0m\u001b[0;34m)\u001b[0m\u001b[0;34m\u001b[0m\u001b[0;34m\u001b[0m\u001b[0m\n\u001b[1;32m   1172\u001b[0m             \u001b[0;32melse\u001b[0m\u001b[0;34m:\u001b[0m\u001b[0;34m\u001b[0m\u001b[0;34m\u001b[0m\u001b[0m\n",
            "\u001b[0;31mUnicodeEncodeError\u001b[0m: 'latin-1' codec can't encode character '\\u2019' in position 380: ordinal not in range(256)"
          ]
        }
      ]
    },
    {
      "cell_type": "code",
      "source": [
        "from fpdf import FPDF\n",
        "\n",
        "class PDF(FPDF):\n",
        "    def header(self):\n",
        "        self.set_font('Arial', 'B', 16)\n",
        "        self.cell(0, 10, 'SimMan 3G Manual Mode Operation Guide', 0, 1, 'C')\n",
        "        self.cell(0, 10, 'Author: P Shobharani, Masters in Data Science, Monmouth University', 0, 1, 'C')\n",
        "        self.ln(10)\n",
        "\n",
        "    def chapter_title(self, number, title):\n",
        "        self.set_font('Arial', 'B', 12)\n",
        "        self.cell(0, 10, f'Chapter {number}: {title}', 0, 1, 'L')\n",
        "        self.ln(2)\n",
        "\n",
        "    def chapter_body(self, body):\n",
        "        self.set_font('Arial', '', 12)\n",
        "        self.multi_cell(0, 10, body)\n",
        "        self.ln()\n",
        "\n",
        "    def add_chapter(self, number, title, body):\n",
        "        self.add_page()\n",
        "        self.chapter_title(number, title)\n",
        "        self.chapter_body(body)\n",
        "\n",
        "\n"
      ],
      "metadata": {
        "id": "24UlwnPtIbzq"
      },
      "execution_count": null,
      "outputs": []
    },
    {
      "cell_type": "code",
      "source": [
        "# Create PDF object\n",
        "pdf = PDF()\n",
        "pdf.set_left_margin(10)\n",
        "pdf.set_right_margin(10)\n",
        "\n",
        "# Define chapters\n",
        "chapters = [\n",
        "    (1, \"Introduction\",\n",
        "     \"The SimMan 3G is an advanced patient simulation system designed to train healthcare professionals by mimicking real-life medical scenarios. This manual focuses on operating the SimMan 3G using the LLEAP software in manual mode, allowing instructors to customize training sessions according to specific educational goals.\"),\n",
        "    (2, \"Purpose\",\n",
        "     \"This manual aims to provide comprehensive guidance for setting up and operating the SimMan 3G in manual mode, ensuring that users can effectively employ this technology to enhance clinical training and improve patient care outcomes.\"),\n",
        "    (3, \"Setup Process\",\n",
        "     \"3.1 Installation and Initial Setup: Ensure that the SimMan 3G unit is placed on a stable surface and near a power outlet. Connect the power cable to the SimMan 3G and to the power source. 3.2 Starting the System: Press the power button on the SimMan 3G to turn on the device. Wait for the system to complete its initialization process, which typically takes a few minutes.\"),\n",
        "    (4, \"Operating Instructions\",\n",
        "     \"4.1 Starting a Simulation: Turn on the instructor’s monitor and launch the 'Laerdal Simulation Home' application. Navigate to the manual mode option and select it. 4.2 Selecting Manual Mode and Patient Type: Within the application, choose 'Manual Mode' and then select 'Healthy Patient' to start with a standard scenario.\"),\n",
        "    (5, \"Parameter Adjustments\",\n",
        "     \"Heart Rate (HR): Adjust using the slider to simulate different cardiac conditions. Oxygen Saturation (SpO2): Set the desired oxygen levels in the blood to mimic various respiratory states. Continue with other parameters such as ABP, PAP, etCO2, etc., adjusting each according to the training needs.\"),\n",
        "    (6, \"Advanced Controls\",\n",
        "     \"Body Sounds: Adjust settings for vocal sounds like heartbeats and lung sounds through the control panel. Eye Movements: Control the simulation of eye movements to mimic different neurological states.\"),\n",
        "    (7, \"Monitoring and Logs\",\n",
        "     \"Regularly check the session log to monitor the sequence of events and any changes made during the simulation. Keep an eye on the system's status through the local PC's connection status and functionality.\"),\n",
        "    (8, \"Troubleshooting\",\n",
        "     \"Common Issues: Address frequent issues that may arise, such as unresponsive software, sensor errors, or hardware malfunctions. Provide detailed solutions and preventive measures to ensure smooth operation. Error Codes: Explain common error codes displayed by the system. Include step-by-step troubleshooting guides to diagnose and resolve these issues efficiently.\"),\n",
        "    (9, \"Maintenance\",\n",
        "     \"Routine Maintenance: Outline procedures for daily, weekly, and monthly maintenance to ensure the SimMan 3G operates at optimal levels. This includes cleaning guidelines, software updates, and hardware checks. Long-term Care: Discuss the best practices for extending the lifespan of the SimMan 3G, such as proper storage, handling of sensitive components, and when to seek professional servicing.\"),\n",
        "    (10, \"Conclusion\",\n",
        "     \"Recap the main points discussed in the manual. Highlight the importance of thorough training and regular practice using the SimMan 3G to fully benefit from its capabilities. Encourage users to maintain the equipment properly and stay updated with new software releases and training modules.\"),\n",
        "    (11, \"Appendix\",\n",
        "     \"Glossary: Define technical terms and abbreviations used throughout the manual. Technical Support: Provide contact information for technical support, customer service, and access to online resources that can assist users in troubleshooting or learning more about the SimMan 3G.\")\n",
        "]"
      ],
      "metadata": {
        "id": "LAnEjjIrMRPC"
      },
      "execution_count": null,
      "outputs": []
    },
    {
      "cell_type": "code",
      "source": [
        "for number, title, body in chapters:\n",
        "    pdf.add_chapter(number, title, body)"
      ],
      "metadata": {
        "id": "1wCgNcwNMWhg"
      },
      "execution_count": null,
      "outputs": []
    },
    {
      "cell_type": "code",
      "source": [
        "# Save the PDF to a file\n",
        "pdf.output('SimMan_3G_Manual_Mode_Operation_Guide.pdf')"
      ],
      "metadata": {
        "colab": {
          "base_uri": "https://localhost:8080/",
          "height": 304
        },
        "id": "0fAfyhidMagI",
        "outputId": "3047f660-8b68-42a5-885f-45aa26cddc88"
      },
      "execution_count": null,
      "outputs": [
        {
          "output_type": "error",
          "ename": "UnicodeEncodeError",
          "evalue": "'latin-1' codec can't encode character '\\u2019' in position 405: ordinal not in range(256)",
          "traceback": [
            "\u001b[0;31m---------------------------------------------------------------------------\u001b[0m",
            "\u001b[0;31mUnicodeEncodeError\u001b[0m                        Traceback (most recent call last)",
            "\u001b[0;32m<ipython-input-15-cab9d118b261>\u001b[0m in \u001b[0;36m<cell line: 2>\u001b[0;34m()\u001b[0m\n\u001b[1;32m      1\u001b[0m \u001b[0;31m# Save the PDF to a file\u001b[0m\u001b[0;34m\u001b[0m\u001b[0;34m\u001b[0m\u001b[0m\n\u001b[0;32m----> 2\u001b[0;31m \u001b[0mpdf\u001b[0m\u001b[0;34m.\u001b[0m\u001b[0moutput\u001b[0m\u001b[0;34m(\u001b[0m\u001b[0;34m'SimMan_3G_Manual_Mode_Operation_Guide.pdf'\u001b[0m\u001b[0;34m)\u001b[0m\u001b[0;34m\u001b[0m\u001b[0;34m\u001b[0m\u001b[0m\n\u001b[0m",
            "\u001b[0;32m/usr/local/lib/python3.10/dist-packages/fpdf/fpdf.py\u001b[0m in \u001b[0;36moutput\u001b[0;34m(self, name, dest)\u001b[0m\n\u001b[1;32m   1063\u001b[0m         \u001b[0;31m#Finish document if necessary\u001b[0m\u001b[0;34m\u001b[0m\u001b[0;34m\u001b[0m\u001b[0m\n\u001b[1;32m   1064\u001b[0m         \u001b[0;32mif\u001b[0m\u001b[0;34m(\u001b[0m\u001b[0mself\u001b[0m\u001b[0;34m.\u001b[0m\u001b[0mstate\u001b[0m\u001b[0;34m<\u001b[0m\u001b[0;36m3\u001b[0m\u001b[0;34m)\u001b[0m\u001b[0;34m:\u001b[0m\u001b[0;34m\u001b[0m\u001b[0;34m\u001b[0m\u001b[0m\n\u001b[0;32m-> 1065\u001b[0;31m             \u001b[0mself\u001b[0m\u001b[0;34m.\u001b[0m\u001b[0mclose\u001b[0m\u001b[0;34m(\u001b[0m\u001b[0;34m)\u001b[0m\u001b[0;34m\u001b[0m\u001b[0;34m\u001b[0m\u001b[0m\n\u001b[0m\u001b[1;32m   1066\u001b[0m         \u001b[0mdest\u001b[0m\u001b[0;34m=\u001b[0m\u001b[0mdest\u001b[0m\u001b[0;34m.\u001b[0m\u001b[0mupper\u001b[0m\u001b[0;34m(\u001b[0m\u001b[0;34m)\u001b[0m\u001b[0;34m\u001b[0m\u001b[0;34m\u001b[0m\u001b[0m\n\u001b[1;32m   1067\u001b[0m         \u001b[0;32mif\u001b[0m\u001b[0;34m(\u001b[0m\u001b[0mdest\u001b[0m\u001b[0;34m==\u001b[0m\u001b[0;34m''\u001b[0m\u001b[0;34m)\u001b[0m\u001b[0;34m:\u001b[0m\u001b[0;34m\u001b[0m\u001b[0;34m\u001b[0m\u001b[0m\n",
            "\u001b[0;32m/usr/local/lib/python3.10/dist-packages/fpdf/fpdf.py\u001b[0m in \u001b[0;36mclose\u001b[0;34m(self)\u001b[0m\n\u001b[1;32m    244\u001b[0m         \u001b[0mself\u001b[0m\u001b[0;34m.\u001b[0m\u001b[0m_endpage\u001b[0m\u001b[0;34m(\u001b[0m\u001b[0;34m)\u001b[0m\u001b[0;34m\u001b[0m\u001b[0;34m\u001b[0m\u001b[0m\n\u001b[1;32m    245\u001b[0m         \u001b[0;31m#close document\u001b[0m\u001b[0;34m\u001b[0m\u001b[0;34m\u001b[0m\u001b[0m\n\u001b[0;32m--> 246\u001b[0;31m         \u001b[0mself\u001b[0m\u001b[0;34m.\u001b[0m\u001b[0m_enddoc\u001b[0m\u001b[0;34m(\u001b[0m\u001b[0;34m)\u001b[0m\u001b[0;34m\u001b[0m\u001b[0;34m\u001b[0m\u001b[0m\n\u001b[0m\u001b[1;32m    247\u001b[0m \u001b[0;34m\u001b[0m\u001b[0m\n\u001b[1;32m    248\u001b[0m     \u001b[0;32mdef\u001b[0m \u001b[0madd_page\u001b[0m\u001b[0;34m(\u001b[0m\u001b[0mself\u001b[0m\u001b[0;34m,\u001b[0m \u001b[0morientation\u001b[0m\u001b[0;34m=\u001b[0m\u001b[0;34m''\u001b[0m\u001b[0;34m)\u001b[0m\u001b[0;34m:\u001b[0m\u001b[0;34m\u001b[0m\u001b[0;34m\u001b[0m\u001b[0m\n",
            "\u001b[0;32m/usr/local/lib/python3.10/dist-packages/fpdf/fpdf.py\u001b[0m in \u001b[0;36m_enddoc\u001b[0;34m(self)\u001b[0m\n\u001b[1;32m   1634\u001b[0m     \u001b[0;32mdef\u001b[0m \u001b[0m_enddoc\u001b[0m\u001b[0;34m(\u001b[0m\u001b[0mself\u001b[0m\u001b[0;34m)\u001b[0m\u001b[0;34m:\u001b[0m\u001b[0;34m\u001b[0m\u001b[0;34m\u001b[0m\u001b[0m\n\u001b[1;32m   1635\u001b[0m         \u001b[0mself\u001b[0m\u001b[0;34m.\u001b[0m\u001b[0m_putheader\u001b[0m\u001b[0;34m(\u001b[0m\u001b[0;34m)\u001b[0m\u001b[0;34m\u001b[0m\u001b[0;34m\u001b[0m\u001b[0m\n\u001b[0;32m-> 1636\u001b[0;31m         \u001b[0mself\u001b[0m\u001b[0;34m.\u001b[0m\u001b[0m_putpages\u001b[0m\u001b[0;34m(\u001b[0m\u001b[0;34m)\u001b[0m\u001b[0;34m\u001b[0m\u001b[0;34m\u001b[0m\u001b[0m\n\u001b[0m\u001b[1;32m   1637\u001b[0m         \u001b[0mself\u001b[0m\u001b[0;34m.\u001b[0m\u001b[0m_putresources\u001b[0m\u001b[0;34m(\u001b[0m\u001b[0;34m)\u001b[0m\u001b[0;34m\u001b[0m\u001b[0;34m\u001b[0m\u001b[0m\n\u001b[1;32m   1638\u001b[0m         \u001b[0;31m#Info\u001b[0m\u001b[0;34m\u001b[0m\u001b[0;34m\u001b[0m\u001b[0m\n",
            "\u001b[0;32m/usr/local/lib/python3.10/dist-packages/fpdf/fpdf.py\u001b[0m in \u001b[0;36m_putpages\u001b[0;34m(self)\u001b[0m\n\u001b[1;32m   1168\u001b[0m             \u001b[0;32mif\u001b[0m \u001b[0mself\u001b[0m\u001b[0;34m.\u001b[0m\u001b[0mcompress\u001b[0m\u001b[0;34m:\u001b[0m\u001b[0;34m\u001b[0m\u001b[0;34m\u001b[0m\u001b[0m\n\u001b[1;32m   1169\u001b[0m                 \u001b[0;31m# manage binary data as latin1 until PEP461 or similar is implemented\u001b[0m\u001b[0;34m\u001b[0m\u001b[0;34m\u001b[0m\u001b[0m\n\u001b[0;32m-> 1170\u001b[0;31m                 \u001b[0mp\u001b[0m \u001b[0;34m=\u001b[0m \u001b[0mself\u001b[0m\u001b[0;34m.\u001b[0m\u001b[0mpages\u001b[0m\u001b[0;34m[\u001b[0m\u001b[0mn\u001b[0m\u001b[0;34m]\u001b[0m\u001b[0;34m.\u001b[0m\u001b[0mencode\u001b[0m\u001b[0;34m(\u001b[0m\u001b[0;34m\"latin1\"\u001b[0m\u001b[0;34m)\u001b[0m \u001b[0;32mif\u001b[0m \u001b[0mPY3K\u001b[0m \u001b[0;32melse\u001b[0m \u001b[0mself\u001b[0m\u001b[0;34m.\u001b[0m\u001b[0mpages\u001b[0m\u001b[0;34m[\u001b[0m\u001b[0mn\u001b[0m\u001b[0;34m]\u001b[0m\u001b[0;34m\u001b[0m\u001b[0;34m\u001b[0m\u001b[0m\n\u001b[0m\u001b[1;32m   1171\u001b[0m                 \u001b[0mp\u001b[0m \u001b[0;34m=\u001b[0m \u001b[0mzlib\u001b[0m\u001b[0;34m.\u001b[0m\u001b[0mcompress\u001b[0m\u001b[0;34m(\u001b[0m\u001b[0mp\u001b[0m\u001b[0;34m)\u001b[0m\u001b[0;34m\u001b[0m\u001b[0;34m\u001b[0m\u001b[0m\n\u001b[1;32m   1172\u001b[0m             \u001b[0;32melse\u001b[0m\u001b[0;34m:\u001b[0m\u001b[0;34m\u001b[0m\u001b[0;34m\u001b[0m\u001b[0m\n",
            "\u001b[0;31mUnicodeEncodeError\u001b[0m: 'latin-1' codec can't encode character '\\u2019' in position 405: ordinal not in range(256)"
          ]
        }
      ]
    },
    {
      "cell_type": "code",
      "source": [
        "# Adding chapters to the PDF\n",
        "pdf.set_font('Arial', 'B', 12)\n",
        "for i, (title, body) in enumerate(chapters, 1):\n",
        "    pdf.add_page()\n",
        "    pdf.cell(0, 10, f'Chapter {i}: {title}', 0, 1, 'L')\n",
        "    pdf.set_font('Arial', '', 12)\n",
        "    pdf.multi_cell(0, 10, body)\n",
        "\n",
        "# Save the PDF to a file\n",
        "pdf.output('SimMan_3G_Manual2.pdf')"
      ],
      "metadata": {
        "colab": {
          "base_uri": "https://localhost:8080/",
          "height": 211
        },
        "id": "WP5ugosfM9Pn",
        "outputId": "8f5f1175-a76c-453a-eb1a-551bdd4b653e"
      },
      "execution_count": null,
      "outputs": [
        {
          "output_type": "error",
          "ename": "ValueError",
          "evalue": "too many values to unpack (expected 2)",
          "traceback": [
            "\u001b[0;31m---------------------------------------------------------------------------\u001b[0m",
            "\u001b[0;31mValueError\u001b[0m                                Traceback (most recent call last)",
            "\u001b[0;32m<ipython-input-16-b21af08dd5f3>\u001b[0m in \u001b[0;36m<cell line: 3>\u001b[0;34m()\u001b[0m\n\u001b[1;32m      1\u001b[0m \u001b[0;31m# Adding chapters to the PDF\u001b[0m\u001b[0;34m\u001b[0m\u001b[0;34m\u001b[0m\u001b[0m\n\u001b[1;32m      2\u001b[0m \u001b[0mpdf\u001b[0m\u001b[0;34m.\u001b[0m\u001b[0mset_font\u001b[0m\u001b[0;34m(\u001b[0m\u001b[0;34m'Arial'\u001b[0m\u001b[0;34m,\u001b[0m \u001b[0;34m'B'\u001b[0m\u001b[0;34m,\u001b[0m \u001b[0;36m12\u001b[0m\u001b[0;34m)\u001b[0m\u001b[0;34m\u001b[0m\u001b[0;34m\u001b[0m\u001b[0m\n\u001b[0;32m----> 3\u001b[0;31m \u001b[0;32mfor\u001b[0m \u001b[0mi\u001b[0m\u001b[0;34m,\u001b[0m \u001b[0;34m(\u001b[0m\u001b[0mtitle\u001b[0m\u001b[0;34m,\u001b[0m \u001b[0mbody\u001b[0m\u001b[0;34m)\u001b[0m \u001b[0;32min\u001b[0m \u001b[0menumerate\u001b[0m\u001b[0;34m(\u001b[0m\u001b[0mchapters\u001b[0m\u001b[0;34m,\u001b[0m \u001b[0;36m1\u001b[0m\u001b[0;34m)\u001b[0m\u001b[0;34m:\u001b[0m\u001b[0;34m\u001b[0m\u001b[0;34m\u001b[0m\u001b[0m\n\u001b[0m\u001b[1;32m      4\u001b[0m     \u001b[0mpdf\u001b[0m\u001b[0;34m.\u001b[0m\u001b[0madd_page\u001b[0m\u001b[0;34m(\u001b[0m\u001b[0;34m)\u001b[0m\u001b[0;34m\u001b[0m\u001b[0;34m\u001b[0m\u001b[0m\n\u001b[1;32m      5\u001b[0m     \u001b[0mpdf\u001b[0m\u001b[0;34m.\u001b[0m\u001b[0mcell\u001b[0m\u001b[0;34m(\u001b[0m\u001b[0;36m0\u001b[0m\u001b[0;34m,\u001b[0m \u001b[0;36m10\u001b[0m\u001b[0;34m,\u001b[0m \u001b[0;34mf'Chapter {i}: {title}'\u001b[0m\u001b[0;34m,\u001b[0m \u001b[0;36m0\u001b[0m\u001b[0;34m,\u001b[0m \u001b[0;36m1\u001b[0m\u001b[0;34m,\u001b[0m \u001b[0;34m'L'\u001b[0m\u001b[0;34m)\u001b[0m\u001b[0;34m\u001b[0m\u001b[0;34m\u001b[0m\u001b[0m\n",
            "\u001b[0;31mValueError\u001b[0m: too many values to unpack (expected 2)"
          ]
        }
      ]
    },
    {
      "cell_type": "code",
      "source": [
        "from fpdf import FPDF\n",
        "\n",
        "# Define a class for the PDF document\n",
        "class PDF(FPDF):\n",
        "    def header(self):\n",
        "        self.set_font('Arial', 'B', 16)\n",
        "        self.cell(0, 10, 'SimMan 3G Manual Mode Operation Guide', 0, 1, 'C')\n",
        "        self.cell(0, 10, 'Author: P Shobharani, Masters in Data Science, Monmouth University', 0, 1, 'C')\n",
        "        self.ln(10)\n",
        "\n",
        "# Initialize PDF object, set margins\n",
        "pdf = PDF()\n",
        "pdf.set_left_margin(10)\n",
        "pdf.set_right_margin(10)\n",
        "\n",
        "# Define chapters as a list of tuples (chapter number, title, body)\n",
        "chapters = [\n",
        "    (1, \"Introduction\",\n",
        "     \"The SimMan 3G is an advanced patient simulation system designed to train healthcare professionals by mimicking real-life medical scenarios. This manual focuses on operating the SimMan 3G using the LLEAP software in manual mode, allowing instructors to customize training sessions according to specific educational goals.\"),\n",
        "    (2, \"Purpose\",\n",
        "     \"This manual aims to provide comprehensive guidance for setting up and operating the SimMan 3G in manual mode, ensuring that users can effectively employ this technology to enhance clinical training and improve patient care outcomes.\"),\n",
        "    (3, \"Setup Process\",\n",
        "     \"3.1 Installation and Initial Setup: Ensure that the SimMan 3G unit is placed on a stable surface and near a power outlet. Connect the power cable to the SimMan 3G and to the power source. 3.2 Starting the System: Press the power button on the SimMan 3G to turn on the device. Wait for the system to complete its initialization process, which typically takes a few minutes.\"),\n",
        "    (4, \"Operating Instructions\",\n",
        "     \"4.1 Starting a Simulation: Turn on the instructor’s monitor and launch the 'Laerdal Simulation Home' application. Navigate to the manual mode option and select it. 4.2 Selecting Manual Mode and Patient Type: Within the application, choose 'Manual Mode' and then select 'Healthy Patient' to start with a standard scenario.\"),\n",
        "    (5, \"Parameter Adjustments\",\n",
        "     \"Heart Rate (HR): Adjust using the slider to simulate different cardiac conditions. Oxygen Saturation (SpO2): Set the desired oxygen levels in the blood to mimic various respiratory states. Continue with other parameters such as ABP, PAP, etCO2, etc., adjusting each according to the training needs.\"),\n",
        "    (6, \"Advanced Controls\",\n",
        "     \"Body Sounds: Adjust settings for vocal sounds like heartbeats and lung sounds through the control panel. Eye Movements: Control the simulation of eye movements to mimic different neurological states.\"),\n",
        "    (7, \"Monitoring and Logs\",\n",
        "     \"Regularly check the session log to monitor the sequence of events and any changes made during the simulation. Keep an eye on the system's status through the local PC's connection status and functionality.\"),\n",
        "    (8, \"Troubleshooting\",\n",
        "     \"Common Issues: Address frequent issues that may arise, such as unresponsive software, sensor errors, or hardware malfunctions. Provide detailed solutions and preventive measures to ensure smooth operation. Error Codes: Explain common error codes displayed by the system. Include step-by-step troubleshooting guides to diagnose and resolve these issues efficiently.\"),\n",
        "    (9, \"Maintenance\",\n",
        "     \"Routine Maintenance: Outline procedures for daily, weekly, and monthly maintenance to ensure the SimMan 3G operates at optimal levels. This includes cleaning guidelines, software updates, and hardware checks. Long-term Care: Discuss the best practices for extending the lifespan of the SimMan 3G, such as proper storage, handling of sensitive components, and when to seek professional servicing.\"),\n",
        "    (10, \"Conclusion\",\n",
        "     \"Recap the main points discussed in the manual. Highlight the importance of thorough training and regular practice using the SimMan 3G to fully benefit from its capabilities. Encourage users to maintain the equipment properly and stay updated with new software releases and training modules.\"),\n",
        "    (11, \"Appendix\",\n",
        "     \"Glossary: Define technical terms and abbreviations used throughout the manual. Technical Support: Provide contact information for technical support, customer service, and access to online resources that can assist users in troubleshooting or learning more about the SimMan 3G.\")\n",
        "]\n",
        "\n",
        "# Adding chapters to the PDF\n",
        "for chapter_number, title, body in chapters:\n",
        "    pdf.add_page()\n",
        "    pdf.set_font('Arial', 'B', 12)\n",
        "    pdf.cell(0, 10, f'Chapter {chapter_number}: {title}', 0, 1, 'L')\n",
        "    pdf.set_font('Arial', '', 12)\n",
        "    pdf.multi_cell(0, 10, body)\n",
        "\n",
        "# Save the PDF to a file\n",
        "pdf.output('SimMan_3G_Manual2.pdf')\n"
      ],
      "metadata": {
        "colab": {
          "base_uri": "https://localhost:8080/",
          "height": 321
        },
        "id": "klgwmU-ANYJl",
        "outputId": "e40d97e8-8a16-40ff-d76d-91a963318a22"
      },
      "execution_count": null,
      "outputs": [
        {
          "output_type": "error",
          "ename": "UnicodeEncodeError",
          "evalue": "'latin-1' codec can't encode character '\\u2019' in position 405: ordinal not in range(256)",
          "traceback": [
            "\u001b[0;31m---------------------------------------------------------------------------\u001b[0m",
            "\u001b[0;31mUnicodeEncodeError\u001b[0m                        Traceback (most recent call last)",
            "\u001b[0;32m<ipython-input-17-8615179c5bac>\u001b[0m in \u001b[0;36m<cell line: 51>\u001b[0;34m()\u001b[0m\n\u001b[1;32m     49\u001b[0m \u001b[0;34m\u001b[0m\u001b[0m\n\u001b[1;32m     50\u001b[0m \u001b[0;31m# Save the PDF to a file\u001b[0m\u001b[0;34m\u001b[0m\u001b[0;34m\u001b[0m\u001b[0m\n\u001b[0;32m---> 51\u001b[0;31m \u001b[0mpdf\u001b[0m\u001b[0;34m.\u001b[0m\u001b[0moutput\u001b[0m\u001b[0;34m(\u001b[0m\u001b[0;34m'SimMan_3G_Manual2.pdf'\u001b[0m\u001b[0;34m)\u001b[0m\u001b[0;34m\u001b[0m\u001b[0;34m\u001b[0m\u001b[0m\n\u001b[0m",
            "\u001b[0;32m/usr/local/lib/python3.10/dist-packages/fpdf/fpdf.py\u001b[0m in \u001b[0;36moutput\u001b[0;34m(self, name, dest)\u001b[0m\n\u001b[1;32m   1063\u001b[0m         \u001b[0;31m#Finish document if necessary\u001b[0m\u001b[0;34m\u001b[0m\u001b[0;34m\u001b[0m\u001b[0m\n\u001b[1;32m   1064\u001b[0m         \u001b[0;32mif\u001b[0m\u001b[0;34m(\u001b[0m\u001b[0mself\u001b[0m\u001b[0;34m.\u001b[0m\u001b[0mstate\u001b[0m\u001b[0;34m<\u001b[0m\u001b[0;36m3\u001b[0m\u001b[0;34m)\u001b[0m\u001b[0;34m:\u001b[0m\u001b[0;34m\u001b[0m\u001b[0;34m\u001b[0m\u001b[0m\n\u001b[0;32m-> 1065\u001b[0;31m             \u001b[0mself\u001b[0m\u001b[0;34m.\u001b[0m\u001b[0mclose\u001b[0m\u001b[0;34m(\u001b[0m\u001b[0;34m)\u001b[0m\u001b[0;34m\u001b[0m\u001b[0;34m\u001b[0m\u001b[0m\n\u001b[0m\u001b[1;32m   1066\u001b[0m         \u001b[0mdest\u001b[0m\u001b[0;34m=\u001b[0m\u001b[0mdest\u001b[0m\u001b[0;34m.\u001b[0m\u001b[0mupper\u001b[0m\u001b[0;34m(\u001b[0m\u001b[0;34m)\u001b[0m\u001b[0;34m\u001b[0m\u001b[0;34m\u001b[0m\u001b[0m\n\u001b[1;32m   1067\u001b[0m         \u001b[0;32mif\u001b[0m\u001b[0;34m(\u001b[0m\u001b[0mdest\u001b[0m\u001b[0;34m==\u001b[0m\u001b[0;34m''\u001b[0m\u001b[0;34m)\u001b[0m\u001b[0;34m:\u001b[0m\u001b[0;34m\u001b[0m\u001b[0;34m\u001b[0m\u001b[0m\n",
            "\u001b[0;32m/usr/local/lib/python3.10/dist-packages/fpdf/fpdf.py\u001b[0m in \u001b[0;36mclose\u001b[0;34m(self)\u001b[0m\n\u001b[1;32m    244\u001b[0m         \u001b[0mself\u001b[0m\u001b[0;34m.\u001b[0m\u001b[0m_endpage\u001b[0m\u001b[0;34m(\u001b[0m\u001b[0;34m)\u001b[0m\u001b[0;34m\u001b[0m\u001b[0;34m\u001b[0m\u001b[0m\n\u001b[1;32m    245\u001b[0m         \u001b[0;31m#close document\u001b[0m\u001b[0;34m\u001b[0m\u001b[0;34m\u001b[0m\u001b[0m\n\u001b[0;32m--> 246\u001b[0;31m         \u001b[0mself\u001b[0m\u001b[0;34m.\u001b[0m\u001b[0m_enddoc\u001b[0m\u001b[0;34m(\u001b[0m\u001b[0;34m)\u001b[0m\u001b[0;34m\u001b[0m\u001b[0;34m\u001b[0m\u001b[0m\n\u001b[0m\u001b[1;32m    247\u001b[0m \u001b[0;34m\u001b[0m\u001b[0m\n\u001b[1;32m    248\u001b[0m     \u001b[0;32mdef\u001b[0m \u001b[0madd_page\u001b[0m\u001b[0;34m(\u001b[0m\u001b[0mself\u001b[0m\u001b[0;34m,\u001b[0m \u001b[0morientation\u001b[0m\u001b[0;34m=\u001b[0m\u001b[0;34m''\u001b[0m\u001b[0;34m)\u001b[0m\u001b[0;34m:\u001b[0m\u001b[0;34m\u001b[0m\u001b[0;34m\u001b[0m\u001b[0m\n",
            "\u001b[0;32m/usr/local/lib/python3.10/dist-packages/fpdf/fpdf.py\u001b[0m in \u001b[0;36m_enddoc\u001b[0;34m(self)\u001b[0m\n\u001b[1;32m   1634\u001b[0m     \u001b[0;32mdef\u001b[0m \u001b[0m_enddoc\u001b[0m\u001b[0;34m(\u001b[0m\u001b[0mself\u001b[0m\u001b[0;34m)\u001b[0m\u001b[0;34m:\u001b[0m\u001b[0;34m\u001b[0m\u001b[0;34m\u001b[0m\u001b[0m\n\u001b[1;32m   1635\u001b[0m         \u001b[0mself\u001b[0m\u001b[0;34m.\u001b[0m\u001b[0m_putheader\u001b[0m\u001b[0;34m(\u001b[0m\u001b[0;34m)\u001b[0m\u001b[0;34m\u001b[0m\u001b[0;34m\u001b[0m\u001b[0m\n\u001b[0;32m-> 1636\u001b[0;31m         \u001b[0mself\u001b[0m\u001b[0;34m.\u001b[0m\u001b[0m_putpages\u001b[0m\u001b[0;34m(\u001b[0m\u001b[0;34m)\u001b[0m\u001b[0;34m\u001b[0m\u001b[0;34m\u001b[0m\u001b[0m\n\u001b[0m\u001b[1;32m   1637\u001b[0m         \u001b[0mself\u001b[0m\u001b[0;34m.\u001b[0m\u001b[0m_putresources\u001b[0m\u001b[0;34m(\u001b[0m\u001b[0;34m)\u001b[0m\u001b[0;34m\u001b[0m\u001b[0;34m\u001b[0m\u001b[0m\n\u001b[1;32m   1638\u001b[0m         \u001b[0;31m#Info\u001b[0m\u001b[0;34m\u001b[0m\u001b[0;34m\u001b[0m\u001b[0m\n",
            "\u001b[0;32m/usr/local/lib/python3.10/dist-packages/fpdf/fpdf.py\u001b[0m in \u001b[0;36m_putpages\u001b[0;34m(self)\u001b[0m\n\u001b[1;32m   1168\u001b[0m             \u001b[0;32mif\u001b[0m \u001b[0mself\u001b[0m\u001b[0;34m.\u001b[0m\u001b[0mcompress\u001b[0m\u001b[0;34m:\u001b[0m\u001b[0;34m\u001b[0m\u001b[0;34m\u001b[0m\u001b[0m\n\u001b[1;32m   1169\u001b[0m                 \u001b[0;31m# manage binary data as latin1 until PEP461 or similar is implemented\u001b[0m\u001b[0;34m\u001b[0m\u001b[0;34m\u001b[0m\u001b[0m\n\u001b[0;32m-> 1170\u001b[0;31m                 \u001b[0mp\u001b[0m \u001b[0;34m=\u001b[0m \u001b[0mself\u001b[0m\u001b[0;34m.\u001b[0m\u001b[0mpages\u001b[0m\u001b[0;34m[\u001b[0m\u001b[0mn\u001b[0m\u001b[0;34m]\u001b[0m\u001b[0;34m.\u001b[0m\u001b[0mencode\u001b[0m\u001b[0;34m(\u001b[0m\u001b[0;34m\"latin1\"\u001b[0m\u001b[0;34m)\u001b[0m \u001b[0;32mif\u001b[0m \u001b[0mPY3K\u001b[0m \u001b[0;32melse\u001b[0m \u001b[0mself\u001b[0m\u001b[0;34m.\u001b[0m\u001b[0mpages\u001b[0m\u001b[0;34m[\u001b[0m\u001b[0mn\u001b[0m\u001b[0;34m]\u001b[0m\u001b[0;34m\u001b[0m\u001b[0;34m\u001b[0m\u001b[0m\n\u001b[0m\u001b[1;32m   1171\u001b[0m                 \u001b[0mp\u001b[0m \u001b[0;34m=\u001b[0m \u001b[0mzlib\u001b[0m\u001b[0;34m.\u001b[0m\u001b[0mcompress\u001b[0m\u001b[0;34m(\u001b[0m\u001b[0mp\u001b[0m\u001b[0;34m)\u001b[0m\u001b[0;34m\u001b[0m\u001b[0;34m\u001b[0m\u001b[0m\n\u001b[1;32m   1172\u001b[0m             \u001b[0;32melse\u001b[0m\u001b[0;34m:\u001b[0m\u001b[0;34m\u001b[0m\u001b[0;34m\u001b[0m\u001b[0m\n",
            "\u001b[0;31mUnicodeEncodeError\u001b[0m: 'latin-1' codec can't encode character '\\u2019' in position 405: ordinal not in range(256)"
          ]
        }
      ]
    }
  ]
}