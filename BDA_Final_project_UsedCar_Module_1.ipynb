{
  "cells": [
    {
      "cell_type": "markdown",
      "metadata": {
        "id": "view-in-github",
        "colab_type": "text"
      },
      "source": [
        "<a href=\"https://colab.research.google.com/github/shobharanip/10-Deep-Learning-Methods-AI-Practitioners-_Shobha/blob/master/BDA_Final_project_UsedCar_Module_1.ipynb\" target=\"_parent\"><img src=\"https://colab.research.google.com/assets/colab-badge.svg\" alt=\"Open In Colab\"/></a>"
      ]
    },
    {
      "cell_type": "code",
      "execution_count": null,
      "metadata": {
        "colab": {
          "base_uri": "https://localhost:8080/"
        },
        "id": "qwMFgWXA6LKb",
        "outputId": "fb15fc83-a941-440f-db08-68de490b23ff"
      },
      "outputs": [
        {
          "output_type": "stream",
          "name": "stdout",
          "text": [
            "Requirement already satisfied: fsspec>=0.3.3 in /usr/local/lib/python3.10/dist-packages (2023.6.0)\n"
          ]
        }
      ],
      "source": [
        "! python -m pip install 'fsspec>=0.3.3'\n",
        "import dask.dataframe as dd\n",
        "from dask.diagnostics import ProgressBar\n",
        "import requests"
      ]
    },
    {
      "cell_type": "code",
      "execution_count": null,
      "metadata": {
        "colab": {
          "base_uri": "https://localhost:8080/"
        },
        "id": "2dSwBVq3vUGw",
        "outputId": "cde17927-7c17-42fd-f11c-88e4a1b80e1a"
      },
      "outputs": [
        {
          "output_type": "stream",
          "name": "stdout",
          "text": [
            "Requirement already satisfied: dask[dataframe] in /usr/local/lib/python3.10/dist-packages (2023.8.1)\n",
            "Requirement already satisfied: click>=8.0 in /usr/local/lib/python3.10/dist-packages (from dask[dataframe]) (8.1.7)\n",
            "Requirement already satisfied: cloudpickle>=1.5.0 in /usr/local/lib/python3.10/dist-packages (from dask[dataframe]) (2.2.1)\n",
            "Requirement already satisfied: fsspec>=2021.09.0 in /usr/local/lib/python3.10/dist-packages (from dask[dataframe]) (2023.6.0)\n",
            "Requirement already satisfied: packaging>=20.0 in /usr/local/lib/python3.10/dist-packages (from dask[dataframe]) (24.0)\n",
            "Requirement already satisfied: partd>=1.2.0 in /usr/local/lib/python3.10/dist-packages (from dask[dataframe]) (1.4.1)\n",
            "Requirement already satisfied: pyyaml>=5.3.1 in /usr/local/lib/python3.10/dist-packages (from dask[dataframe]) (6.0.1)\n",
            "Requirement already satisfied: toolz>=0.10.0 in /usr/local/lib/python3.10/dist-packages (from dask[dataframe]) (0.12.1)\n",
            "Requirement already satisfied: importlib-metadata>=4.13.0 in /usr/local/lib/python3.10/dist-packages (from dask[dataframe]) (7.1.0)\n",
            "Requirement already satisfied: pandas>=1.3 in /usr/local/lib/python3.10/dist-packages (from dask[dataframe]) (2.0.3)\n",
            "Requirement already satisfied: zipp>=0.5 in /usr/local/lib/python3.10/dist-packages (from importlib-metadata>=4.13.0->dask[dataframe]) (3.18.1)\n",
            "Requirement already satisfied: python-dateutil>=2.8.2 in /usr/local/lib/python3.10/dist-packages (from pandas>=1.3->dask[dataframe]) (2.8.2)\n",
            "Requirement already satisfied: pytz>=2020.1 in /usr/local/lib/python3.10/dist-packages (from pandas>=1.3->dask[dataframe]) (2023.4)\n",
            "Requirement already satisfied: tzdata>=2022.1 in /usr/local/lib/python3.10/dist-packages (from pandas>=1.3->dask[dataframe]) (2024.1)\n",
            "Requirement already satisfied: numpy>=1.21.0 in /usr/local/lib/python3.10/dist-packages (from pandas>=1.3->dask[dataframe]) (1.25.2)\n",
            "Requirement already satisfied: locket in /usr/local/lib/python3.10/dist-packages (from partd>=1.2.0->dask[dataframe]) (1.0.0)\n",
            "Requirement already satisfied: six>=1.5 in /usr/local/lib/python3.10/dist-packages (from python-dateutil>=2.8.2->pandas>=1.3->dask[dataframe]) (1.16.0)\n"
          ]
        }
      ],
      "source": [
        " # python -m pip install dask[dataframe] --upgrade  # or python -m pip install\n",
        "! pip install dask[dataframe]"
      ]
    },
    {
      "cell_type": "code",
      "execution_count": null,
      "metadata": {
        "colab": {
          "base_uri": "https://localhost:8080/"
        },
        "id": "JP29SrTwvc2A",
        "outputId": "b07ff7ea-a1ac-49cf-b267-f8f0dc089209"
      },
      "outputs": [
        {
          "output_type": "stream",
          "name": "stdout",
          "text": [
            "Requirement already satisfied: dask in /usr/local/lib/python3.10/dist-packages (2023.8.1)\n",
            "Requirement already satisfied: click>=8.0 in /usr/local/lib/python3.10/dist-packages (from dask) (8.1.7)\n",
            "Requirement already satisfied: cloudpickle>=1.5.0 in /usr/local/lib/python3.10/dist-packages (from dask) (2.2.1)\n",
            "Requirement already satisfied: fsspec>=2021.09.0 in /usr/local/lib/python3.10/dist-packages (from dask) (2023.6.0)\n",
            "Requirement already satisfied: packaging>=20.0 in /usr/local/lib/python3.10/dist-packages (from dask) (24.0)\n",
            "Requirement already satisfied: partd>=1.2.0 in /usr/local/lib/python3.10/dist-packages (from dask) (1.4.1)\n",
            "Requirement already satisfied: pyyaml>=5.3.1 in /usr/local/lib/python3.10/dist-packages (from dask) (6.0.1)\n",
            "Requirement already satisfied: toolz>=0.10.0 in /usr/local/lib/python3.10/dist-packages (from dask) (0.12.1)\n",
            "Requirement already satisfied: importlib-metadata>=4.13.0 in /usr/local/lib/python3.10/dist-packages (from dask) (7.1.0)\n",
            "Requirement already satisfied: zipp>=0.5 in /usr/local/lib/python3.10/dist-packages (from importlib-metadata>=4.13.0->dask) (3.18.1)\n",
            "Requirement already satisfied: locket in /usr/local/lib/python3.10/dist-packages (from partd>=1.2.0->dask) (1.0.0)\n"
          ]
        }
      ],
      "source": [
        "! pip install dask"
      ]
    },
    {
      "cell_type": "code",
      "execution_count": null,
      "metadata": {
        "colab": {
          "base_uri": "https://localhost:8080/"
        },
        "id": "lAWjUszP_ZSQ",
        "outputId": "f1550e93-f831-49e7-e0a7-26d27278022c"
      },
      "outputs": [
        {
          "output_type": "stream",
          "name": "stdout",
          "text": [
            "Requirement already satisfied: requests in /usr/local/lib/python3.10/dist-packages (2.31.0)\n",
            "Requirement already satisfied: charset-normalizer<4,>=2 in /usr/local/lib/python3.10/dist-packages (from requests) (3.3.2)\n",
            "Requirement already satisfied: idna<4,>=2.5 in /usr/local/lib/python3.10/dist-packages (from requests) (3.6)\n",
            "Requirement already satisfied: urllib3<3,>=1.21.1 in /usr/local/lib/python3.10/dist-packages (from requests) (2.0.7)\n",
            "Requirement already satisfied: certifi>=2017.4.17 in /usr/local/lib/python3.10/dist-packages (from requests) (2024.2.2)\n",
            "Requirement already satisfied: aiohttp in /usr/local/lib/python3.10/dist-packages (3.9.3)\n",
            "Requirement already satisfied: aiosignal>=1.1.2 in /usr/local/lib/python3.10/dist-packages (from aiohttp) (1.3.1)\n",
            "Requirement already satisfied: attrs>=17.3.0 in /usr/local/lib/python3.10/dist-packages (from aiohttp) (23.2.0)\n",
            "Requirement already satisfied: frozenlist>=1.1.1 in /usr/local/lib/python3.10/dist-packages (from aiohttp) (1.4.1)\n",
            "Requirement already satisfied: multidict<7.0,>=4.5 in /usr/local/lib/python3.10/dist-packages (from aiohttp) (6.0.5)\n",
            "Requirement already satisfied: yarl<2.0,>=1.0 in /usr/local/lib/python3.10/dist-packages (from aiohttp) (1.9.4)\n",
            "Requirement already satisfied: async-timeout<5.0,>=4.0 in /usr/local/lib/python3.10/dist-packages (from aiohttp) (4.0.3)\n",
            "Requirement already satisfied: idna>=2.0 in /usr/local/lib/python3.10/dist-packages (from yarl<2.0,>=1.0->aiohttp) (3.6)\n",
            "Requirement already satisfied: pandas in /usr/local/lib/python3.10/dist-packages (2.0.3)\n",
            "Requirement already satisfied: python-dateutil>=2.8.2 in /usr/local/lib/python3.10/dist-packages (from pandas) (2.8.2)\n",
            "Requirement already satisfied: pytz>=2020.1 in /usr/local/lib/python3.10/dist-packages (from pandas) (2023.4)\n",
            "Requirement already satisfied: tzdata>=2022.1 in /usr/local/lib/python3.10/dist-packages (from pandas) (2024.1)\n",
            "Requirement already satisfied: numpy>=1.21.0 in /usr/local/lib/python3.10/dist-packages (from pandas) (1.25.2)\n",
            "Requirement already satisfied: six>=1.5 in /usr/local/lib/python3.10/dist-packages (from python-dateutil>=2.8.2->pandas) (1.16.0)\n"
          ]
        }
      ],
      "source": [
        "! pip install requests\n",
        "! pip install aiohttp\n",
        "! pip install pandas"
      ]
    },
    {
      "cell_type": "code",
      "execution_count": null,
      "metadata": {
        "id": "Ji97_vw5v8Mu"
      },
      "outputs": [],
      "source": [
        "import dask.dataframe as dd\n",
        "import pandas as pd\n",
        "from dask.diagnostics import ProgressBar\n",
        "from matplotlib import pyplot as plt"
      ]
    },
    {
      "cell_type": "code",
      "source": [
        "from sklearn.model_selection import train_test_split\n",
        "from sklearn.ensemble import RandomForestClassifier\n",
        "from sklearn.metrics import accuracy_score, confusion_matrix, classification_report\n",
        "import matplotlib.pyplot as plt\n",
        "import seaborn as sns"
      ],
      "metadata": {
        "id": "QzfE4vxD-dXA"
      },
      "execution_count": null,
      "outputs": []
    },
    {
      "cell_type": "code",
      "execution_count": null,
      "metadata": {
        "id": "VKth4kVVJKkR",
        "colab": {
          "base_uri": "https://localhost:8080/"
        },
        "outputId": "b3b4b1a8-e621-44ac-97b9-abf9ef1ca8a9"
      },
      "outputs": [
        {
          "output_type": "stream",
          "name": "stdout",
          "text": [
            "Mounted at /content/drive\n"
          ]
        }
      ],
      "source": [
        "from google.colab import drive\n",
        "drive.mount('/content/drive')"
      ]
    },
    {
      "cell_type": "code",
      "execution_count": null,
      "metadata": {
        "id": "22kE1rDJJKuD",
        "colab": {
          "base_uri": "https://localhost:8080/"
        },
        "outputId": "5b36bcd7-1ed6-457a-9fe4-eb446f49aed6"
      },
      "outputs": [
        {
          "output_type": "stream",
          "name": "stdout",
          "text": [
            "/content/drive/MyDrive/Colab Notebooks\n"
          ]
        }
      ],
      "source": [
        "cd '/content/drive/MyDrive/Colab Notebooks/'"
      ]
    },
    {
      "cell_type": "code",
      "execution_count": null,
      "metadata": {
        "id": "zpF7VsHXJKwe",
        "colab": {
          "base_uri": "https://localhost:8080/",
          "height": 195
        },
        "outputId": "9de91b51-f1e6-4b8d-c441-92c84bb0c7d3"
      },
      "outputs": [
        {
          "output_type": "execute_result",
          "data": {
            "text/plain": [
              "Dask DataFrame Structure:\n",
              "                year    make   model    trim    body transmission     vin   state condition odometer (mileage)   color interior  seller    mmr sellingprice saledate\n",
              "npartitions=1                                                                                                                                                       \n",
              "               int64  string  string  string  string       string  string  string   float64              int64  string   string  string  int64        int64   string\n",
              "                 ...     ...     ...     ...     ...          ...     ...     ...       ...                ...     ...      ...     ...    ...          ...      ...\n",
              "Dask Name: to_pyarrow_string, 2 graph layers"
            ],
            "text/html": [
              "<div><strong>Dask DataFrame Structure:</strong></div>\n",
              "<div>\n",
              "<style scoped>\n",
              "    .dataframe tbody tr th:only-of-type {\n",
              "        vertical-align: middle;\n",
              "    }\n",
              "\n",
              "    .dataframe tbody tr th {\n",
              "        vertical-align: top;\n",
              "    }\n",
              "\n",
              "    .dataframe thead th {\n",
              "        text-align: right;\n",
              "    }\n",
              "</style>\n",
              "<table border=\"1\" class=\"dataframe\">\n",
              "  <thead>\n",
              "    <tr style=\"text-align: right;\">\n",
              "      <th></th>\n",
              "      <th>year</th>\n",
              "      <th>make</th>\n",
              "      <th>model</th>\n",
              "      <th>trim</th>\n",
              "      <th>body</th>\n",
              "      <th>transmission</th>\n",
              "      <th>vin</th>\n",
              "      <th>state</th>\n",
              "      <th>condition</th>\n",
              "      <th>odometer (mileage)</th>\n",
              "      <th>color</th>\n",
              "      <th>interior</th>\n",
              "      <th>seller</th>\n",
              "      <th>mmr</th>\n",
              "      <th>sellingprice</th>\n",
              "      <th>saledate</th>\n",
              "    </tr>\n",
              "    <tr>\n",
              "      <th>npartitions=1</th>\n",
              "      <th></th>\n",
              "      <th></th>\n",
              "      <th></th>\n",
              "      <th></th>\n",
              "      <th></th>\n",
              "      <th></th>\n",
              "      <th></th>\n",
              "      <th></th>\n",
              "      <th></th>\n",
              "      <th></th>\n",
              "      <th></th>\n",
              "      <th></th>\n",
              "      <th></th>\n",
              "      <th></th>\n",
              "      <th></th>\n",
              "      <th></th>\n",
              "    </tr>\n",
              "  </thead>\n",
              "  <tbody>\n",
              "    <tr>\n",
              "      <th></th>\n",
              "      <td>int64</td>\n",
              "      <td>string</td>\n",
              "      <td>string</td>\n",
              "      <td>string</td>\n",
              "      <td>string</td>\n",
              "      <td>string</td>\n",
              "      <td>string</td>\n",
              "      <td>string</td>\n",
              "      <td>float64</td>\n",
              "      <td>int64</td>\n",
              "      <td>string</td>\n",
              "      <td>string</td>\n",
              "      <td>string</td>\n",
              "      <td>int64</td>\n",
              "      <td>int64</td>\n",
              "      <td>string</td>\n",
              "    </tr>\n",
              "    <tr>\n",
              "      <th></th>\n",
              "      <td>...</td>\n",
              "      <td>...</td>\n",
              "      <td>...</td>\n",
              "      <td>...</td>\n",
              "      <td>...</td>\n",
              "      <td>...</td>\n",
              "      <td>...</td>\n",
              "      <td>...</td>\n",
              "      <td>...</td>\n",
              "      <td>...</td>\n",
              "      <td>...</td>\n",
              "      <td>...</td>\n",
              "      <td>...</td>\n",
              "      <td>...</td>\n",
              "      <td>...</td>\n",
              "      <td>...</td>\n",
              "    </tr>\n",
              "  </tbody>\n",
              "</table>\n",
              "</div>\n",
              "<div>Dask Name: to_pyarrow_string, 2 graph layers</div>"
            ]
          },
          "metadata": {},
          "execution_count": 10
        }
      ],
      "source": [
        "#Load CSV using Dask\n",
        "import dask.dataframe as dd\n",
        "df = dd.read_csv('car_prices.csv')\n",
        "df"
      ]
    },
    {
      "cell_type": "code",
      "source": [
        "import dask.dataframe as dd\n",
        "\n",
        "# Load CSV using Dask, specifying the dtype for \"odometer (mileage)\"\n",
        "df = dd.read_csv('car_prices.csv', dtype={'odometer (mileage)': 'float64'})\n",
        "\n",
        "# If using Parquet, ensure consistent string encoding (e.g., UTF-8) during data loading/saving\n",
        "df"
      ],
      "metadata": {
        "colab": {
          "base_uri": "https://localhost:8080/",
          "height": 178
        },
        "id": "JpceB2H3hKbJ",
        "outputId": "dde200a4-045c-492e-f104-150ee7095322"
      },
      "execution_count": null,
      "outputs": [
        {
          "output_type": "execute_result",
          "data": {
            "text/plain": [
              "Dask DataFrame Structure:\n",
              "                year    make   model    trim    body transmission     vin   state condition odometer (mileage)   color interior  seller    mmr sellingprice saledate\n",
              "npartitions=1                                                                                                                                                       \n",
              "               int64  string  string  string  string       string  string  string   float64            float64  string   string  string  int64        int64   string\n",
              "                 ...     ...     ...     ...     ...          ...     ...     ...       ...                ...     ...      ...     ...    ...          ...      ...\n",
              "Dask Name: to_pyarrow_string, 2 graph layers"
            ],
            "text/html": [
              "<div><strong>Dask DataFrame Structure:</strong></div>\n",
              "<div>\n",
              "<style scoped>\n",
              "    .dataframe tbody tr th:only-of-type {\n",
              "        vertical-align: middle;\n",
              "    }\n",
              "\n",
              "    .dataframe tbody tr th {\n",
              "        vertical-align: top;\n",
              "    }\n",
              "\n",
              "    .dataframe thead th {\n",
              "        text-align: right;\n",
              "    }\n",
              "</style>\n",
              "<table border=\"1\" class=\"dataframe\">\n",
              "  <thead>\n",
              "    <tr style=\"text-align: right;\">\n",
              "      <th></th>\n",
              "      <th>year</th>\n",
              "      <th>make</th>\n",
              "      <th>model</th>\n",
              "      <th>trim</th>\n",
              "      <th>body</th>\n",
              "      <th>transmission</th>\n",
              "      <th>vin</th>\n",
              "      <th>state</th>\n",
              "      <th>condition</th>\n",
              "      <th>odometer (mileage)</th>\n",
              "      <th>color</th>\n",
              "      <th>interior</th>\n",
              "      <th>seller</th>\n",
              "      <th>mmr</th>\n",
              "      <th>sellingprice</th>\n",
              "      <th>saledate</th>\n",
              "    </tr>\n",
              "    <tr>\n",
              "      <th>npartitions=1</th>\n",
              "      <th></th>\n",
              "      <th></th>\n",
              "      <th></th>\n",
              "      <th></th>\n",
              "      <th></th>\n",
              "      <th></th>\n",
              "      <th></th>\n",
              "      <th></th>\n",
              "      <th></th>\n",
              "      <th></th>\n",
              "      <th></th>\n",
              "      <th></th>\n",
              "      <th></th>\n",
              "      <th></th>\n",
              "      <th></th>\n",
              "      <th></th>\n",
              "    </tr>\n",
              "  </thead>\n",
              "  <tbody>\n",
              "    <tr>\n",
              "      <th></th>\n",
              "      <td>int64</td>\n",
              "      <td>string</td>\n",
              "      <td>string</td>\n",
              "      <td>string</td>\n",
              "      <td>string</td>\n",
              "      <td>string</td>\n",
              "      <td>string</td>\n",
              "      <td>string</td>\n",
              "      <td>float64</td>\n",
              "      <td>float64</td>\n",
              "      <td>string</td>\n",
              "      <td>string</td>\n",
              "      <td>string</td>\n",
              "      <td>int64</td>\n",
              "      <td>int64</td>\n",
              "      <td>string</td>\n",
              "    </tr>\n",
              "    <tr>\n",
              "      <th></th>\n",
              "      <td>...</td>\n",
              "      <td>...</td>\n",
              "      <td>...</td>\n",
              "      <td>...</td>\n",
              "      <td>...</td>\n",
              "      <td>...</td>\n",
              "      <td>...</td>\n",
              "      <td>...</td>\n",
              "      <td>...</td>\n",
              "      <td>...</td>\n",
              "      <td>...</td>\n",
              "      <td>...</td>\n",
              "      <td>...</td>\n",
              "      <td>...</td>\n",
              "      <td>...</td>\n",
              "      <td>...</td>\n",
              "    </tr>\n",
              "  </tbody>\n",
              "</table>\n",
              "</div>\n",
              "<div>Dask Name: to_pyarrow_string, 2 graph layers</div>"
            ]
          },
          "metadata": {},
          "execution_count": 23
        }
      ]
    },
    {
      "cell_type": "code",
      "source": [
        "# Load CSV using Dask, specifying the dtype for \"odometer (mileage)\"\n",
        "df = dd.read_csv('car_prices.csv', dtype={'odometer (mileage)': 'float64'})\n",
        "# Compute the dataframe\n",
        "df = df.compute()\n",
        "# Get the number of rows\n",
        "num_rows = len(df)\n",
        "print(num_rows)"
      ],
      "metadata": {
        "colab": {
          "base_uri": "https://localhost:8080/"
        },
        "id": "nTtaX1XnwcY1",
        "outputId": "98402746-b051-4d8f-c448-94b92c870e18"
      },
      "execution_count": null,
      "outputs": [
        {
          "output_type": "stream",
          "name": "stdout",
          "text": [
            "558837\n"
          ]
        }
      ]
    },
    {
      "cell_type": "code",
      "source": [
        "#Check the shape of data\n",
        "print(\"Shape of the dataset:\", df.shape[0], \"rows and\", len(df.columns), \"columns\")"
      ],
      "metadata": {
        "colab": {
          "base_uri": "https://localhost:8080/"
        },
        "id": "gZkYHjLGl9Vx",
        "outputId": "705abf92-b218-4b8d-e685-e93103c07afc"
      },
      "execution_count": null,
      "outputs": [
        {
          "output_type": "stream",
          "name": "stdout",
          "text": [
            "Shape of the dataset: 558837 rows and 16 columns\n"
          ]
        }
      ]
    },
    {
      "cell_type": "code",
      "execution_count": null,
      "metadata": {
        "id": "-qeCcmD4_Uxa",
        "colab": {
          "base_uri": "https://localhost:8080/"
        },
        "outputId": "34122ad3-bdbc-4ae2-a4b3-db0bd6fc4864"
      },
      "outputs": [
        {
          "output_type": "stream",
          "name": "stdout",
          "text": [
            "Data types of columns:\n",
            "year                            int64\n",
            "make                  string[pyarrow]\n",
            "model                 string[pyarrow]\n",
            "trim                  string[pyarrow]\n",
            "body                  string[pyarrow]\n",
            "transmission          string[pyarrow]\n",
            "vin                   string[pyarrow]\n",
            "state                 string[pyarrow]\n",
            "condition                     float64\n",
            "odometer (mileage)              int64\n",
            "color                 string[pyarrow]\n",
            "interior              string[pyarrow]\n",
            "seller                string[pyarrow]\n",
            "mmr                             int64\n",
            "sellingprice                    int64\n",
            "saledate              string[pyarrow]\n",
            "dtype: object\n"
          ]
        }
      ],
      "source": [
        "#Check data types of data\n",
        "print(\"Data types of columns:\")\n",
        "print(df.dtypes)"
      ]
    },
    {
      "cell_type": "code",
      "source": [
        "# Load CSV using Dask, specifying the dtype for \"odometer (mileage)\"\n",
        "df = dd.read_csv('car_prices.csv', dtype={'odometer (mileage)': 'float64'})\n",
        "# Now you can proceed with printing the top 20 rows or other operations\n",
        "print(\"Top 20 rows:\")\n",
        "print(df.head(20))"
      ],
      "metadata": {
        "colab": {
          "base_uri": "https://localhost:8080/"
        },
        "id": "3gROcbRWxiuC",
        "outputId": "532fa56e-9810-406e-b001-34742516baac"
      },
      "execution_count": null,
      "outputs": [
        {
          "output_type": "stream",
          "name": "stdout",
          "text": [
            "Top 20 rows:\n",
            "    year       make                model                       trim  \\\n",
            "0   2015        Kia              Sorento                         LX   \n",
            "1   2015        Kia              Sorento                         LX   \n",
            "2   2014        BMW             3 Series                 328i SULEV   \n",
            "3   2015      Volvo                  S60                         T5   \n",
            "4   2014        BMW  6 Series Gran Coupe                       650i   \n",
            "5   2015     Nissan               Altima                      2.5 S   \n",
            "6   2014        BMW                   M5                       Base   \n",
            "7   2014  Chevrolet                Cruze                        1LT   \n",
            "8   2014       Audi                   A4  2.0T Premium Plus quattro   \n",
            "9   2014  Chevrolet               Camaro                         LT   \n",
            "10  2014       Audi                   A6      3.0T Prestige quattro   \n",
            "11  2015        Kia               Optima                         LX   \n",
            "12  2015       Ford               Fusion                         SE   \n",
            "13  2015        Kia              Sorento                         LX   \n",
            "14  2014  Chevrolet                Cruze                        2LT   \n",
            "15  2015     Nissan               Altima                      2.5 S   \n",
            "16  2015    Hyundai               Sonata                         SE   \n",
            "17  2014       Audi                   Q5  2.0T Premium Plus quattro   \n",
            "18  2014  Chevrolet               Camaro                         LS   \n",
            "19  2014        BMW             6 Series                       650i   \n",
            "\n",
            "           body transmission                vin state  condition  \\\n",
            "0           SUV    automatic  5xyktca69fg566472    ca        5.0   \n",
            "1           SUV    automatic  5xyktca69fg561319    ca        5.0   \n",
            "2         Sedan    automatic  wba3c1c51ek116351    ca        4.5   \n",
            "3         Sedan    automatic  yv1612tb4f1310987    ca        4.1   \n",
            "4         Sedan    automatic  wba6b2c57ed129731    ca        4.3   \n",
            "5         Sedan    automatic  1n4al3ap1fn326013    ca        1.0   \n",
            "6         Sedan    automatic  wbsfv9c51ed593089    ca        3.4   \n",
            "7         Sedan    automatic  1g1pc5sb2e7128460    ca        2.0   \n",
            "8         Sedan    automatic  wauffafl3en030343    ca        4.2   \n",
            "9   Convertible    automatic  2g1fb3d37e9218789    ca        3.0   \n",
            "10        Sedan    automatic  wauhgafc0en062916    ca        4.8   \n",
            "11        Sedan    automatic  5xxgm4a73fg353538    ca        4.8   \n",
            "12        Sedan    automatic  3fa6p0hdxfr145753    ca        2.0   \n",
            "13          SUV    automatic  5xyktca66fg561407    ca        5.0   \n",
            "14        Sedan    automatic  1g1pe5sbxe7120097    ca        NaN   \n",
            "15        Sedan    automatic  1n4al3ap5fc124223    ca        2.0   \n",
            "16        Sedan         <NA>  5npe24af4fh001562    ca        NaN   \n",
            "17          SUV    automatic  wa1lfafpxea085074    ca        4.9   \n",
            "18        Coupe    automatic  2g1fa1e39e9134494    ca        1.7   \n",
            "19  Convertible    automatic  wbayp9c53ed169260    ca        3.4   \n",
            "\n",
            "    odometer (mileage)   color interior  \\\n",
            "0              16639.0   white    black   \n",
            "1               9393.0   white    beige   \n",
            "2               1331.0    gray    black   \n",
            "3              14282.0   white    black   \n",
            "4               2641.0    gray    black   \n",
            "5               5554.0    gray    black   \n",
            "6              14943.0   black    black   \n",
            "7              28617.0   black    black   \n",
            "8               9557.0   white    black   \n",
            "9               4809.0     red    black   \n",
            "10             14414.0   black    black   \n",
            "11              2034.0     red      tan   \n",
            "12              5559.0   white    beige   \n",
            "13             14634.0  silver    black   \n",
            "14             15686.0    blue    black   \n",
            "15             11398.0   black    black   \n",
            "16              8311.0     red        —   \n",
            "17              7983.0   white    black   \n",
            "18             13441.0   black    black   \n",
            "19              8819.0   black    black   \n",
            "\n",
            "                                               seller    mmr  sellingprice  \\\n",
            "0                             kia motors america, inc  20500         21500   \n",
            "1                             kia motors america, inc  20800         21500   \n",
            "2              financial services remarketing (lease)  31900         30000   \n",
            "3                             volvo na rep/world omni  27500         27750   \n",
            "4              financial services remarketing (lease)  66000         67000   \n",
            "5   enterprise vehicle exchange / tra / rental / t...  15350         10900   \n",
            "6                               the hertz corporation  69000         65000   \n",
            "7   enterprise vehicle exchange / tra / rental / t...  11900          9800   \n",
            "8                                  audi mission viejo  32100         32250   \n",
            "9                                  d/m auto sales inc  26300         17500   \n",
            "10                                  desert auto trade  47300         49750   \n",
            "11                                 kia motors finance  15150         17700   \n",
            "12  enterprise vehicle exchange / tra / rental / t...  15350         12000   \n",
            "13                            kia motors america, inc  20600         21500   \n",
            "14                               avis rac/san leandro  13900         10600   \n",
            "15  enterprise vehicle exchange / tra / rental / t...  14750         14100   \n",
            "16                                           avis tra  15200          4200   \n",
            "17                              audi north scottsdale  37100         40000   \n",
            "18                        wells fargo dealer services  17750         17000   \n",
            "19                              the hertz corporation  68000         67200   \n",
            "\n",
            "                                   saledate  \n",
            "0   Tue Dec 16 2014 12:30:00 GMT-0800 (PST)  \n",
            "1   Tue Dec 16 2014 12:30:00 GMT-0800 (PST)  \n",
            "2   Thu Jan 15 2015 04:30:00 GMT-0800 (PST)  \n",
            "3   Thu Jan 29 2015 04:30:00 GMT-0800 (PST)  \n",
            "4   Thu Dec 18 2014 12:30:00 GMT-0800 (PST)  \n",
            "5   Tue Dec 30 2014 12:00:00 GMT-0800 (PST)  \n",
            "6   Wed Dec 17 2014 12:30:00 GMT-0800 (PST)  \n",
            "7   Tue Dec 16 2014 13:00:00 GMT-0800 (PST)  \n",
            "8   Thu Dec 18 2014 12:00:00 GMT-0800 (PST)  \n",
            "9   Tue Jan 20 2015 04:00:00 GMT-0800 (PST)  \n",
            "10  Tue Dec 16 2014 12:30:00 GMT-0800 (PST)  \n",
            "11  Tue Dec 16 2014 12:00:00 GMT-0800 (PST)  \n",
            "12  Tue Jan 13 2015 12:00:00 GMT-0800 (PST)  \n",
            "13  Tue Dec 16 2014 12:30:00 GMT-0800 (PST)  \n",
            "14  Tue Dec 16 2014 12:00:00 GMT-0800 (PST)  \n",
            "15  Tue Dec 23 2014 12:00:00 GMT-0800 (PST)  \n",
            "16  Tue Dec 16 2014 13:00:00 GMT-0800 (PST)  \n",
            "17  Thu Dec 18 2014 12:30:00 GMT-0800 (PST)  \n",
            "18  Tue Dec 30 2014 15:00:00 GMT-0800 (PST)  \n",
            "19  Wed Dec 17 2014 12:30:00 GMT-0800 (PST)  \n"
          ]
        }
      ]
    },
    {
      "cell_type": "markdown",
      "source": [],
      "metadata": {
        "id": "fB1WfiV73uZO"
      }
    },
    {
      "cell_type": "code",
      "execution_count": null,
      "metadata": {
        "id": "isqhT28mWYt5",
        "colab": {
          "base_uri": "https://localhost:8080/"
        },
        "outputId": "86f0531e-32dd-42c5-f599-2be002141f64"
      },
      "outputs": [
        {
          "output_type": "stream",
          "name": "stdout",
          "text": [
            "Bottom 20 rows:\n",
            "        year           make           model                    trim  \\\n",
            "558817  2012           Ford            Flex                     SEL   \n",
            "558818  2013      Chevrolet  Silverado 1500                      LT   \n",
            "558819  2012            Kia          Optima                      EX   \n",
            "558820  2014          Dodge         Charger                      SE   \n",
            "558821  2012           Ford          Escape                     XLT   \n",
            "558822  2009  Mercedes-Benz         C-Class             C300 Luxury   \n",
            "558823  2012      Chevrolet  Silverado 1500                      LT   \n",
            "558824  2013           Audi              S5    Premium Plus quattro   \n",
            "558825  2011         Subaru        Forester                    2.5X   \n",
            "558826  2014           Jeep  Grand Cherokee                 Limited   \n",
            "558827  2014           Jeep  Grand Cherokee                  Laredo   \n",
            "558828  2012          Dodge   Grand Caravan  American Value Package   \n",
            "558829  2012        Hyundai         Elantra                 Limited   \n",
            "558830  2012         Nissan          Sentra                  2.0 SR   \n",
            "558831  2011            BMW        5 Series                    528i   \n",
            "558832  2015            Kia            K900                  Luxury   \n",
            "558833  2012            Ram            2500             Power Wagon   \n",
            "558834  2012            BMW              X5               xDrive35d   \n",
            "558835  2015         Nissan          Altima                   2.5 S   \n",
            "558836  2014           Ford           F-150                     XLT   \n",
            "\n",
            "               body transmission                vin state  condition  \\\n",
            "558817        Wagon    automatic  2fmhk6cc1cbd17905    ny        3.9   \n",
            "558818     crew cab    automatic  3gcpcse0xdg244430    tx        4.3   \n",
            "558819        Sedan    automatic  5xxgn4a74cg032147    fl        4.4   \n",
            "558820        Sedan         <NA>  2c3cdxbg9eh324236    va        4.2   \n",
            "558821          SUV    automatic  1fmcu9d78ckc84074    fl        3.8   \n",
            "558822        sedan    automatic  wddgf54x89r068689    hi        4.1   \n",
            "558823     Crew Cab    automatic  3gcpcse00cg289987    tx        3.7   \n",
            "558824  convertible    automatic  waucgafh6dn005382    fl        5.0   \n",
            "558825          suv       manual  jf2shbac9bg741815    ca        4.1   \n",
            "558826          SUV    automatic  1c4rjebg4ec573100    ca        4.4   \n",
            "558827          SUV    automatic  1c4rjfag0ec466276    pa        4.2   \n",
            "558828      Minivan    automatic  2c4rdgbg1cr349287    ma        3.7   \n",
            "558829        Sedan         <NA>  5npdh4ae7ch106397    pa        4.0   \n",
            "558830        Sedan         <NA>  3n1ab6ap3cl622485    tn        2.6   \n",
            "558831        Sedan    automatic  wbafr1c53bc744672    fl        3.9   \n",
            "558832        Sedan         <NA>  knalw4d4xf6019304    in        4.5   \n",
            "558833     Crew Cab    automatic  3c6td5et6cg112407    wa        5.0   \n",
            "558834          SUV    automatic  5uxzw0c58cl668465    ca        4.8   \n",
            "558835        sedan    automatic  1n4al3ap0fc216050    ga        3.8   \n",
            "558836    SuperCrew    automatic  1ftfw1et2eke87277    ca        3.4   \n",
            "\n",
            "        odometer (mileage)   color interior  \\\n",
            "558817             28320.0     red    black   \n",
            "558818             74575.0   black    black   \n",
            "558819             58176.0     red    beige   \n",
            "558820             22744.0   white    black   \n",
            "558821             74673.0   white     gray   \n",
            "558822             80498.0  silver    black   \n",
            "558823             37908.0   white    black   \n",
            "558824             20158.0  silver    black   \n",
            "558825             71693.0  silver    black   \n",
            "558826              9024.0    gray    black   \n",
            "558827             25180.0    gray    black   \n",
            "558828             97036.0  silver     gray   \n",
            "558829             66720.0    gray     gray   \n",
            "558830             35858.0   white     gray   \n",
            "558831             66403.0   white    brown   \n",
            "558832             18255.0  silver    black   \n",
            "558833             54393.0   white    black   \n",
            "558834             50561.0   black    black   \n",
            "558835             16658.0   white    black   \n",
            "558836             15008.0    gray     gray   \n",
            "\n",
            "                                                   seller    mmr  \\\n",
            "558817                      ford motor credit company,llc  21500   \n",
            "558818             stanley chevrolet buick gmc gatesville  22100   \n",
            "558819                                 kia motors finance  12850   \n",
            "558820                              hertz corporation/gdp  16250   \n",
            "558821                               lehman buick gmc llc  11550   \n",
            "558822                           jpmorgan chase bank,n.a.  12600   \n",
            "558823                        wells fargo dealer services  25000   \n",
            "558824                                      prestige audi  43900   \n",
            "558825                    remarketing by ge/billion dodge  12300   \n",
            "558826  enterprise vehicle exchange / tra / rental / t...  29800   \n",
            "558827                              hertz corporation/gdp  26000   \n",
            "558828              ge fleet services for itself/servicer   8300   \n",
            "558829                                     champion mazda  10250   \n",
            "558830                                 nissan-infiniti lt   9950   \n",
            "558831           lauderdale imports ltd bmw pembrok pines  20300   \n",
            "558832                                   avis corporation  35300   \n",
            "558833                                    i -5 uhlmann rv  30200   \n",
            "558834             financial services remarketing (lease)  29800   \n",
            "558835  enterprise vehicle exchange / tra / rental / t...  15100   \n",
            "558836                   ford motor credit company,llc pd  29600   \n",
            "\n",
            "        sellingprice                                 saledate  \n",
            "558817         22300  Wed Jul 08 2015 07:30:00 GMT-0700 (PDT)  \n",
            "558818         22000  Wed Jul 08 2015 09:30:00 GMT-0700 (PDT)  \n",
            "558819         11800  Tue Jul 07 2015 06:30:00 GMT-0700 (PDT)  \n",
            "558820         15900  Wed Jul 08 2015 07:15:00 GMT-0700 (PDT)  \n",
            "558821         11400  Tue Jul 07 2015 06:15:00 GMT-0700 (PDT)  \n",
            "558822         10250  Tue Jul 07 2015 09:30:00 GMT-0700 (PDT)  \n",
            "558823         23000  Tue Jul 07 2015 06:00:00 GMT-0700 (PDT)  \n",
            "558824         42000  Thu Jul 09 2015 06:00:00 GMT-0700 (PDT)  \n",
            "558825         11750  Wed Jul 08 2015 09:30:00 GMT-0700 (PDT)  \n",
            "558826         17300  Thu Jul 09 2015 09:00:00 GMT-0700 (PDT)  \n",
            "558827         24500  Tue Jul 07 2015 06:30:00 GMT-0700 (PDT)  \n",
            "558828          7800  Tue Jul 07 2015 06:30:00 GMT-0700 (PDT)  \n",
            "558829         10400  Wed Jul 08 2015 07:30:00 GMT-0700 (PDT)  \n",
            "558830         10400  Wed Jul 08 2015 17:15:00 GMT-0700 (PDT)  \n",
            "558831         22800  Tue Jul 07 2015 06:15:00 GMT-0700 (PDT)  \n",
            "558832         33000  Thu Jul 09 2015 07:00:00 GMT-0700 (PDT)  \n",
            "558833         30800  Wed Jul 08 2015 09:30:00 GMT-0700 (PDT)  \n",
            "558834         34000  Wed Jul 08 2015 09:30:00 GMT-0700 (PDT)  \n",
            "558835         11100  Thu Jul 09 2015 06:45:00 GMT-0700 (PDT)  \n",
            "558836         26700  Thu May 28 2015 05:30:00 GMT-0700 (PDT)  \n"
          ]
        }
      ],
      "source": [
        "#Display bottom 20 rows\n",
        "print(\"Bottom 20 rows:\")\n",
        "print(df.tail(20))"
      ]
    },
    {
      "cell_type": "code",
      "execution_count": null,
      "metadata": {
        "id": "DzM5cGoWYDaz"
      },
      "outputs": [],
      "source": [
        "# https://data.cityofnewyork.us/browse?q=parking+ticket\n",
        "# 2016 https://data.cityofnewyork.us/resource/kiv2-tbus.csv\n",
        "# 2015 https://data.cityofnewyork.us/resource/c284-tqph.csv\n",
        "# 2014 https://data.cityofnewyork.us/resource/jt7v-77mi.csv"
      ]
    },
    {
      "cell_type": "code",
      "execution_count": null,
      "metadata": {
        "id": "F4KyjUXPZZYv"
      },
      "outputs": [],
      "source": [
        "# Hypothesis 1: Car price correlates positively with the number of cylinders.\n",
        "\n",
        "    #Null Hypothesis (H0): There is no correlation between car price and the number of cylinders.\n",
        "    #Alternate Hypothesis (H1): There is a positive correlation between car price and the number of cylinders.\n",
        "\n",
        "# Hypothesis 2: Cars with higher horsepower tend to have higher prices.\n",
        "\n",
        "    #Null Hypothesis (H0): There is no correlation between car price and horsepower.\n",
        "    #Alternate Hypothesis (H1): There is a positive correlation between car price and horsepower.\n",
        "\n",
        "# Hypothesis 3: Fuel efficiency (mpg) negatively correlates with price.\n",
        "\n",
        "    #Null Hypothesis (H0): There is no correlation between car price and fuel efficiency (mpg).\n",
        "    #Alternate Hypothesis (H1): There is a negative correlation between car price and fuel efficiency (mpg).\n",
        "\n",
        "# Hypothesis 4: Cars from certain brands (e.g., luxury brands) have higher average prices.\n",
        "\n",
        "    #Null Hypothesis (H0): There is no difference in average prices between luxury and non-luxury car brands.\n",
        "    #Alternate Hypothesis (H1): Luxury car brands have a higher average price compared to non-luxury brands.\n",
        "\n",
        "# Hypothesis 5: The age of the car (model year) inversely affects the price.\n",
        "\n",
        "    #Null Hypothesis (H0): There is no correlation between car price and model year.\n",
        "    #Alternate Hypothesis (H1): There is a negative correlation between car price and model year (older cars are cheaper)."
      ]
    },
    {
      "cell_type": "code",
      "source": [
        "# Prediction:\n",
        "#I would suggest a prediction experiment focusing on car price prediction. Here's why:\n",
        "\n",
        "#Reasons for Prediction:    #Continuous Target Variable: The target variable you're interested in, \"sellingprice,\" is continuous (numerical values).\n",
        "#Classification is typically used for categorical target variables (e.g., predicting if a car is \"luxury\" or \"non-luxury\").\n",
        "#Prediction is better suited for estimating continuous values like price.\n",
        "\n",
        "#Granular Insights: Predicting the actual selling price provides more granular and actionable insights than simply classifying cars into categories. Knowing the estimated price allows for better decision-making in buying, selling, or pricing strategies.\n",
        "\n",
        "#Example: #Imagine you're building a model to help car sellers determine an appropriate selling price.\n"
      ],
      "metadata": {
        "id": "A1XqSRvrbyMh"
      },
      "execution_count": null,
      "outputs": []
    },
    {
      "cell_type": "markdown",
      "metadata": {
        "id": "DPz6ESW5mflC"
      },
      "source": [
        "Common columns"
      ]
    }
  ],
  "metadata": {
    "colab": {
      "provenance": [],
      "include_colab_link": true
    },
    "kernelspec": {
      "display_name": "Python 3",
      "name": "python3"
    },
    "language_info": {
      "name": "python"
    }
  },
  "nbformat": 4,
  "nbformat_minor": 0
}